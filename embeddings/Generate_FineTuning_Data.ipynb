{
  "cells": [
    {
      "cell_type": "code",
      "source": [
        "# Copyright 2024 Google LLC\n",
        "#\n",
        "# Licensed under the Apache License, Version 2.0 (the \"License\");\n",
        "# you may not use this file except in compliance with the License.\n",
        "# You may obtain a copy of the License at\n",
        "#\n",
        "#     https://www.apache.org/licenses/LICENSE-2.0\n",
        "#\n",
        "# Unless required by applicable law or agreed to in writing, software\n",
        "# distributed under the License is distributed on an \"AS IS\" BASIS,\n",
        "# WITHOUT WARRANTIES OR CONDITIONS OF ANY KIND, either express or implied.\n",
        "# See the License for the specific language governing permissions and\n",
        "# limitations under the License."
      ],
      "metadata": {
        "id": "Mbyy88dG-Qq8"
      },
      "execution_count": null,
      "outputs": []
    },
    {
      "cell_type": "markdown",
      "source": [
        "| | |\n",
        "|-|-|\n",
        "|Author(s) | [Zachary Thorman](https://github.com/zthor5)|"
      ],
      "metadata": {
        "id": "ByHvc05m-SYH"
      }
    },
    {
      "cell_type": "markdown",
      "metadata": {
        "id": "YtwZ8DZGJfUv"
      },
      "source": [
        "# Overview\n",
        "\n",
        "This Notebook will generate JSONLs & Training splits for Finetuning from a list of PDF's using Generative AI's full context to do analysis of the PDFs."
      ]
    },
    {
      "cell_type": "markdown",
      "source": [
        "# Getting Started\n",
        "\n",
        "In this section, you will install needed dependencies & define the Google Cloud project where you want to connect to Vertex AI."
      ],
      "metadata": {
        "id": "2t--gKa8HDZ7"
      }
    },
    {
      "cell_type": "markdown",
      "source": [
        "### Install dependencies"
      ],
      "metadata": {
        "id": "gM2it3BmSEo-"
      }
    },
    {
      "cell_type": "code",
      "execution_count": 84,
      "metadata": {
        "id": "JbXe7Oodc5dP"
      },
      "outputs": [],
      "source": [
        "!pip install --upgrade --quiet google-generativeai chromadb pymupdf google-cloud-storage langchain==0.1.20"
      ]
    },
    {
      "cell_type": "markdown",
      "metadata": {
        "id": "jwmKt115PxK8"
      },
      "source": [
        "Then import the modules you'll use in this tutorial."
      ]
    },
    {
      "cell_type": "code",
      "execution_count": 85,
      "metadata": {
        "id": "muuhsDmmKdHi"
      },
      "outputs": [],
      "source": [
        "import textwrap\n",
        "import chromadb\n",
        "import numpy as np\n",
        "import pandas as pd\n",
        "import pymupdf\n",
        "import re\n",
        "import time\n",
        "\n",
        "from vertexai.generative_models import GenerativeModel, Part\n",
        "import vertexai.preview.generative_models as generative_models\n",
        "from vertexai.language_models import TextEmbeddingModel\n",
        "\n",
        "# Used to securely store your API key\n",
        "from google.colab import userdata\n",
        "from google.cloud import storage\n",
        "\n",
        "from IPython.display import Markdown\n",
        "from chromadb import Documents, EmbeddingFunction, Embeddings\n",
        "\n",
        "# Import LangChain components\n",
        "import langchain\n",
        "from langchain.text_splitter import RecursiveCharacterTextSplitter\n",
        "from langchain_community.document_loaders import DataFrameLoader\n",
        "\n",
        "\n",
        "# Initialize Vertex AI\n",
        "import vertexai\n",
        "import sys"
      ]
    },
    {
      "cell_type": "markdown",
      "metadata": {
        "id": "U6tZGHUDOCFW"
      },
      "source": [
        "### Restart runtime\n",
        "\n",
        "To use the newly installed packages in this Jupyter runtime, you must restart the runtime. You can do this by running the cell below, which restarts the current kernel.\n",
        "\n",
        "The restart might take a minute or longer. After its restarted, continue to the next step."
      ]
    },
    {
      "cell_type": "code",
      "source": [
        "# import IPython\n",
        "\n",
        "# app = IPython.Application.instance()\n",
        "# app.kernel.do_shutdown(True)"
      ],
      "metadata": {
        "id": "ruVajAp-Htc4"
      },
      "execution_count": 86,
      "outputs": []
    },
    {
      "cell_type": "markdown",
      "source": [
        "<div class=\"alert alert-block alert-warning\">\n",
        "<b>⚠️ Wait for the kernel to finish restarting before you continue. ⚠️</b>\n",
        "</div>"
      ],
      "metadata": {
        "id": "GmqS2zdDHwki"
      }
    },
    {
      "cell_type": "markdown",
      "source": [
        "### Authenticate your notebook environment (Colab only)\n",
        "\n",
        "If you are running this notebook on Google Colab, run the cell below to authenticate your environment.\n",
        "\n",
        "This step is not required if you are using [Vertex AI Workbench](https://cloud.google.com/vertex-ai-workbench)."
      ],
      "metadata": {
        "id": "ekYrnfAnH12N"
      }
    },
    {
      "cell_type": "code",
      "source": [
        "# Additional authentication is required for Google Colab\n",
        "if \"google.colab\" in sys.modules:\n",
        "    # Authenticate user to Google Cloud\n",
        "    from google.colab import auth\n",
        "    auth.authenticate_user()"
      ],
      "metadata": {
        "id": "022W7-OUH5YL"
      },
      "execution_count": 87,
      "outputs": []
    },
    {
      "cell_type": "markdown",
      "source": [
        "### Define Google Cloud project information, initialize Vertex AI, and add Secrets\n",
        "\n",
        "To get started using Vertex AI, you must have an existing Google Cloud project and [enable the Vertex AI API](https://console.cloud.google.com/flows/enableapi?apiid=aiplatform.googleapis.com).\n",
        "\n",
        "Learn more about [setting up a project and a development environment](https://cloud.google.com/vertex-ai/docs/start/cloud-environment)."
      ],
      "metadata": {
        "id": "AALfV4LTH-xA"
      }
    },
    {
      "cell_type": "code",
      "source": [
        "# Utilizing Secrets to retrieve sensitive information\n",
        "# You can add your own projectID and location to run in your environment.\n",
        "\n",
        "PROJECT_ID = userdata.get('ProjectId') # @param {type:\"string\"}\n",
        "LOCATION = \"us-central1\"    # @param {type:\"string\"}\n",
        "\n",
        "\n",
        "vertexai.init(project=PROJECT_ID, location=LOCATION)"
      ],
      "metadata": {
        "id": "YgDr8fuQIAbQ"
      },
      "execution_count": 88,
      "outputs": []
    },
    {
      "cell_type": "markdown",
      "source": [
        "# Helper Functions for Creating Fine Tuning Data"
      ],
      "metadata": {
        "id": "ccPd69qZJN2n"
      }
    },
    {
      "cell_type": "markdown",
      "source": [
        "## Generating JSONLs\n",
        "\n",
        "Note: *Markdown is currently lost in this conversion.*"
      ],
      "metadata": {
        "id": "ILO1NZw--xnm"
      }
    },
    {
      "cell_type": "code",
      "source": [
        "# Pauses execution on GCP for 12 second due to default Quota for Vertex AI\n",
        "defualt_quota_sec = 12\n",
        "\n",
        "# Create a text splitter to divide documents into smaller chunks\n",
        "text_splitter = RecursiveCharacterTextSplitter(\n",
        "    chunk_size=10000,\n",
        "    chunk_overlap=200,\n",
        ")\n",
        "\n",
        "# Creating the Generation Config\n",
        "generation_config = {\n",
        "\"max_output_tokens\": 8192,\n",
        "\"temperature\": 0,\n",
        "\"top_p\": 0.95,\n",
        "}\n",
        "\n",
        "# Defining Safety filters that WILL NOT block (hopefully) the content outputted\n",
        "safety_settings = {\n",
        "    generative_models.HarmCategory.HARM_CATEGORY_HATE_SPEECH: generative_models.HarmBlockThreshold.BLOCK_NONE,\n",
        "    generative_models.HarmCategory.HARM_CATEGORY_DANGEROUS_CONTENT: generative_models.HarmBlockThreshold.BLOCK_NONE,\n",
        "    generative_models.HarmCategory.HARM_CATEGORY_SEXUALLY_EXPLICIT: generative_models.HarmBlockThreshold.BLOCK_NONE,\n",
        "    generative_models.HarmCategory.HARM_CATEGORY_HARASSMENT: generative_models.HarmBlockThreshold.BLOCK_NONE,\n",
        "}\n"
      ],
      "metadata": {
        "id": "weOCHmSHQZL1"
      },
      "execution_count": 100,
      "outputs": []
    },
    {
      "cell_type": "code",
      "source": [
        "def pdf_context_jsonl(pdfList, model):\n",
        "  text = \"\"\n",
        "  for pdf in pdfList:\n",
        "    ! gsutil -q cp {pdf} .\n",
        "    print(f'Downloaded: {pdf}')\n",
        "    with pymupdf.open(re.split(r'([^\\/]+$)', pdf)[-2]) as doc:\n",
        "      for page in doc:\n",
        "          text += page.get_text()\n",
        "\n",
        "\n",
        "  # Split the text into chunks\n",
        "  chunks = text_splitter.split_text(text)\n",
        "  with open('context.jsonl', 'w') as f:\n",
        "      for i, chunk in enumerate(chunks):\n",
        "        chunk = chunk.replace(\"\\n\",\" \")\n",
        "        chunk = chunk.replace(\"\\\"\",\"\\'\")\n",
        "        try:\n",
        "          title = model.generate_content(f\"Generate a 10 word summary of this text: {chunk}\")\n",
        "          if i%10 == 0:\n",
        "            print(f'Processing LLM calls for chunks ({i} - {i + 10})')\n",
        "        except Exception as err:\n",
        "          print(f\"LLM's need breaks too! Paused execution for default quota: {defualt_quota_sec} seconds.\")\n",
        "          time.sleep(defualt_quota_sec)\n",
        "          try:\n",
        "            title = model.generate_content(f\"Generate a 10 word summary of this text: {chunk}\")\n",
        "            print(f'Finished LLM call for chunk ({i})')\n",
        "          except Exception as err:\n",
        "            title = \"null\"\n",
        "            print(f\"Oh, maybe something else was the issue? Here is the error: {err}\")\n",
        "        cleansed_title = title.text.replace(\"\\n\",\"\")\n",
        "        f.write(f'{{\"_id\":\"context_{i}\",\"title\":\"{cleansed_title}\",\"text\":\"{chunk}\"}}\\n')\n",
        "  print(f'Finished generating Context.jsonl')\n",
        "  return text\n",
        "\n",
        "\n",
        "def validate_jsonl_llm(jsonl_text, model):\n",
        "  prompt_analysis = f\"Return 'true' or 'false' based on if the following text is properly formatted and valid JSONL:\\n{jsonl_text}\"\n",
        "  response = model.generate_content(prompt_analysis)\n",
        "  return True if (\"true\" in response.text.lower()) else False\n",
        "\n",
        "\n",
        "# Creates JSONL Prompts for a PDF and writes them into a file\n",
        "# *zthor* Modify Prompt to generate reliably at least 10 to 50 Per PDF\n",
        "def pdf_query_jsonl(pdfList, model):\n",
        "  validate_text = \"\"\n",
        "  prompt = 'Output JSONL questions based on the pdf provided  with the context needed to answer each question in this format, filling in the brackets: {\"_id\":\"query_[An Iterable number]\",\"title\":\"[The iterable number from before times 2]\",\"text\":\"[A question based on the pdf provided]\", \"context\":\"[Cite the answer from the PDF]\"}'\n",
        "  for pdf in pdfList:\n",
        "    pdf_file = Part.from_uri(pdf, mime_type=\"application/pdf\")\n",
        "    with open('query.jsonl', 'w') as f:\n",
        "      output = model.generate_content([prompt,pdf_file])\n",
        "      f.write(output.text)\n",
        "      validate_text += output.text\n",
        "\n",
        "  if (validate_jsonl_llm(validate_text,model)):\n",
        "    f.close()\n",
        "    return \"Successful Creation of Prompt.jsonl\"\n",
        "  else:\n",
        "    if 'yes' in input('Failed Creation of Prompt.jsonl; Reattempt creation? (yes or no): ').lower():\n",
        "      f.close()\n",
        "      pdf_query_jsonl(pdfList, model)\n",
        "    else:\n",
        "      f.close()\n",
        "      return \"Failed Creation of Prompt.jsonl\"\n",
        "\n",
        "def create_pairing_tsv(pdfList, pdf_text, model):\n",
        "  all_pairs = [] # TSV of: [query-id], [context-id], [score]\n",
        "  with open('query.jsonl', 'r') as f:\n",
        "    f.read()\n",
        "\n",
        "\n"
      ],
      "metadata": {
        "id": "fGl4UCyF-27k"
      },
      "execution_count": 108,
      "outputs": []
    },
    {
      "cell_type": "markdown",
      "source": [
        "For More details on what is needed for Fine Tuning, [learn more here!](https://cloud.google.com/vertex-ai/generative-ai/docs/models/tune-embeddings#dataset-format)"
      ],
      "metadata": {
        "id": "IftfNL07wR7a"
      }
    },
    {
      "cell_type": "code",
      "source": [
        "model = GenerativeModel(\"gemini-1.5-pro-preview-0514\", generation_config = generation_config, safety_settings=safety_settings)\n",
        "\n",
        "pdfList =  [\"gs://dmv-pdf-analysis/driver_manual_ga_2024.pdf\",\n",
        "            \"gs://dmv-pdf-analysis/commercial_driver_guide.pdf\",\n",
        "            \"gs://dmv-pdf-analysis/motorcycle_operator_guide.pdf\",\n",
        "            \"gs://dmv-pdf-analysis/40_hour_teen_driving_guide.pdf\",\n",
        "            \"gs://dmv-pdf-analysis/alcohol_drug_awareness_student.pdf\",\n",
        "] # Needs to be stored in a GCS Bucket\n",
        "\n",
        "#client = storage.Client()\n",
        "#client.download_blob_to_file('gs://dmv-pdf-analysis/driver_manual_ga_2024.pdf', \"test#\")\n",
        "\n",
        "\n",
        "all_pdf_text = pdf_context_jsonl(pdfList, model)\n",
        "print(pdf_query_jsonl(pdfList, model))\n",
        "create_pairing_tsv(pdfList, all_pdf_text, model)"
      ],
      "metadata": {
        "colab": {
          "base_uri": "https://localhost:8080/"
        },
        "id": "Bubx2SO2IsiK",
        "outputId": "59272783-528a-44cb-b9bc-0b13659e0f9d"
      },
      "execution_count": 106,
      "outputs": [
        {
          "output_type": "stream",
          "name": "stdout",
          "text": [
            "Downloaded: gs://dmv-pdf-analysis/driver_manual_ga_2024.pdf\n",
            "Downloaded: gs://dmv-pdf-analysis/commercial_driver_guide.pdf\n",
            "Downloaded: gs://dmv-pdf-analysis/motorcycle_operator_guide.pdf\n",
            "Downloaded: gs://dmv-pdf-analysis/40_hour_teen_driving_guide.pdf\n",
            "Downloaded: gs://dmv-pdf-analysis/alcohol_drug_awareness_student.pdf\n",
            "Processing LLM calls for chunks (0 - 10)\n",
            "Processing LLM calls for chunks (10 - 20)\n",
            "Processing LLM calls for chunks (20 - 30)\n",
            "Processing LLM calls for chunks (30 - 40)\n",
            "Processing LLM calls for chunks (40 - 50)\n",
            "Processing LLM calls for chunks (50 - 60)\n",
            "Processing LLM calls for chunks (60 - 70)\n",
            "LLM's need breaks too! Paused execution for default quota: 12 seconds.\n",
            "Finished LLM call for chunk (64)\n",
            "Processing LLM calls for chunks (70 - 80)\n",
            "Processing LLM calls for chunks (80 - 90)\n",
            "Processing LLM calls for chunks (90 - 100)\n",
            "Processing LLM calls for chunks (100 - 110)\n",
            "Finished generating Context JSONL\n",
            "Successful Creation of Prompt.jsonl\n",
            "BLAH\n"
          ]
        }
      ]
    },
    {
      "cell_type": "markdown",
      "metadata": {
        "id": "ThTbjAJ7eGP5"
      },
      "source": [
        "# Next steps\n",
        "\n",
        "To learn more about how you can use the embeddings, check out the [examples](https://ai.google.dev/examples?keywords=embed) available. To learn how to use other services in the Gemini API, visit the [Python quickstart](https://ai.google.dev/gemini-api/docs/get-started/python)."
      ]
    }
  ],
  "metadata": {
    "colab": {
      "provenance": [],
      "collapsed_sections": [
        "2t--gKa8HDZ7",
        "U6tZGHUDOCFW"
      ]
    },
    "kernelspec": {
      "display_name": "Python 3",
      "name": "python3"
    }
  },
  "nbformat": 4,
  "nbformat_minor": 0
}