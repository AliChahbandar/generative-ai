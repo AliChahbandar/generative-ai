{
  "cells": [
    {
      "cell_type": "code",
      "source": [
        "# Copyright 2024 Google LLC\n",
        "#\n",
        "# Licensed under the Apache License, Version 2.0 (the \"License\");\n",
        "# you may not use this file except in compliance with the License.\n",
        "# You may obtain a copy of the License at\n",
        "#\n",
        "#     https://www.apache.org/licenses/LICENSE-2.0\n",
        "#\n",
        "# Unless required by applicable law or agreed to in writing, software\n",
        "# distributed under the License is distributed on an \"AS IS\" BASIS,\n",
        "# WITHOUT WARRANTIES OR CONDITIONS OF ANY KIND, either express or implied.\n",
        "# See the License for the specific language governing permissions and\n",
        "# limitations under the License."
      ],
      "metadata": {
        "id": "Mbyy88dG-Qq8"
      },
      "execution_count": null,
      "outputs": []
    },
    {
      "cell_type": "markdown",
      "source": [
        "| | |\n",
        "|-|-|\n",
        "|Author(s) | [Zachary Thorman](https://github.com/zthor5)|"
      ],
      "metadata": {
        "id": "ByHvc05m-SYH"
      }
    },
    {
      "cell_type": "markdown",
      "metadata": {
        "id": "YtwZ8DZGJfUv"
      },
      "source": [
        "# Overview\n",
        "\n",
        "This Notebook will generate JSONLs & Training splits for Finetuning from a list of PDF's using Generative AI's full context to do analysis of the PDFs."
      ]
    },
    {
      "cell_type": "markdown",
      "source": [
        "# Getting Started\n",
        "\n",
        "In this section, you will install needed dependencies & define the Google Cloud project where you want to connect to Vertex AI."
      ],
      "metadata": {
        "id": "2t--gKa8HDZ7"
      }
    },
    {
      "cell_type": "markdown",
      "source": [
        "### Install dependencies"
      ],
      "metadata": {
        "id": "gM2it3BmSEo-"
      }
    },
    {
      "cell_type": "code",
      "execution_count": 84,
      "metadata": {
        "id": "JbXe7Oodc5dP"
      },
      "outputs": [],
      "source": [
        "!pip install --upgrade --quiet google-generativeai chromadb pymupdf google-cloud-storage langchain==0.1.20"
      ]
    },
    {
      "cell_type": "markdown",
      "metadata": {
        "id": "jwmKt115PxK8"
      },
      "source": [
        "Then import the modules you'll use in this tutorial."
      ]
    },
    {
      "cell_type": "code",
      "execution_count": 85,
      "metadata": {
        "id": "muuhsDmmKdHi"
      },
      "outputs": [],
      "source": [
        "import textwrap\n",
        "import chromadb\n",
        "import numpy as np\n",
        "import pandas as pd\n",
        "import pymupdf\n",
        "import re\n",
        "import time\n",
        "\n",
        "from vertexai.generative_models import GenerativeModel, Part\n",
        "import vertexai.preview.generative_models as generative_models\n",
        "from vertexai.language_models import TextEmbeddingModel\n",
        "\n",
        "# Used to securely store your API key\n",
        "from google.colab import userdata\n",
        "from google.cloud import storage\n",
        "\n",
        "from IPython.display import Markdown\n",
        "from chromadb import Documents, EmbeddingFunction, Embeddings\n",
        "\n",
        "# Import LangChain components\n",
        "import langchain\n",
        "from langchain.text_splitter import RecursiveCharacterTextSplitter\n",
        "from langchain_community.document_loaders import DataFrameLoader\n",
        "\n",
        "\n",
        "# Initialize Vertex AI\n",
        "import vertexai\n",
        "import sys"
      ]
    },
    {
      "cell_type": "markdown",
      "metadata": {
        "id": "U6tZGHUDOCFW"
      },
      "source": [
        "### Restart runtime\n",
        "\n",
        "To use the newly installed packages in this Jupyter runtime, you must restart the runtime. You can do this by running the cell below, which restarts the current kernel.\n",
        "\n",
        "The restart might take a minute or longer. After its restarted, continue to the next step."
      ]
    },
    {
      "cell_type": "code",
      "source": [
        "# import IPython\n",
        "\n",
        "# app = IPython.Application.instance()\n",
        "# app.kernel.do_shutdown(True)"
      ],
      "metadata": {
        "id": "ruVajAp-Htc4"
      },
      "execution_count": 86,
      "outputs": []
    },
    {
      "cell_type": "markdown",
      "source": [
        "<div class=\"alert alert-block alert-warning\">\n",
        "<b>⚠️ Wait for the kernel to finish restarting before you continue. ⚠️</b>\n",
        "</div>"
      ],
      "metadata": {
        "id": "GmqS2zdDHwki"
      }
    },
    {
      "cell_type": "markdown",
      "source": [
        "### Authenticate your notebook environment (Colab only)\n",
        "\n",
        "If you are running this notebook on Google Colab, run the cell below to authenticate your environment.\n",
        "\n",
        "This step is not required if you are using [Vertex AI Workbench](https://cloud.google.com/vertex-ai-workbench)."
      ],
      "metadata": {
        "id": "ekYrnfAnH12N"
      }
    },
    {
      "cell_type": "code",
      "source": [
        "# Additional authentication is required for Google Colab\n",
        "if \"google.colab\" in sys.modules:\n",
        "    # Authenticate user to Google Cloud\n",
        "    from google.colab import auth\n",
        "    auth.authenticate_user()"
      ],
      "metadata": {
        "id": "022W7-OUH5YL"
      },
      "execution_count": 87,
      "outputs": []
    },
    {
      "cell_type": "markdown",
      "source": [
        "### Define Google Cloud project information, initialize Vertex AI, and add Secrets\n",
        "\n",
        "To get started using Vertex AI, you must have an existing Google Cloud project and [enable the Vertex AI API](https://console.cloud.google.com/flows/enableapi?apiid=aiplatform.googleapis.com).\n",
        "\n",
        "Learn more about [setting up a project and a development environment](https://cloud.google.com/vertex-ai/docs/start/cloud-environment)."
      ],
      "metadata": {
        "id": "AALfV4LTH-xA"
      }
    },
    {
      "cell_type": "code",
      "source": [
        "# Utilizing Secrets to retrieve sensitive information\n",
        "# You can add your own projectID and location to run in your environment.\n",
        "\n",
        "PROJECT_ID = userdata.get('ProjectId') # @param {type:\"string\"}\n",
        "LOCATION = \"us-central1\"    # @param {type:\"string\"}\n",
        "\n",
        "\n",
        "vertexai.init(project=PROJECT_ID, location=LOCATION)"
      ],
      "metadata": {
        "id": "YgDr8fuQIAbQ"
      },
      "execution_count": 88,
      "outputs": []
    },
    {
      "cell_type": "markdown",
      "source": [
        "# Class for Flexible LLM Caller"
      ],
      "metadata": {
        "id": "ccPd69qZJN2n"
      }
    },
    {
      "cell_type": "markdown",
      "source": [
        "## Generate JSONLs\n",
        "\n"
      ],
      "metadata": {
        "id": "WLWCPbyJVp0R"
      }
    },
    {
      "cell_type": "code",
      "source": [
        "# class GenModel:\n",
        "\n",
        "#     def __init__(self, model_name, temperature):\n",
        "#         self.model = GenerativeModel(\"gemini-1.5-pro-001\", generation_config = generation_config)\n",
        "#         self.model_name = model_name # To be used later for picking models via a Match\n",
        "#         self.temperature = temperature # To be used later for picking models via a Match\n",
        "\n",
        "#     def get_answer(self, prompt):\n",
        "#         response = self.model.generate_content(prompt)\n",
        "#         return response.text\n",
        "\n",
        "\n",
        "# class Vanilla_Embedding_Model:\n",
        "\n",
        "#     def __init__(self, model_name, temperature):\n",
        "#         self.embed_model = TextEmbeddingModel.from_pretrained(\"text-embedding-004\")\n",
        "\n",
        "#     def get_answer(self, prompt):\n",
        "#         embedding = self.embed_model.get_embeddings([prompt])\n",
        "#         vector = embedding[0].values\n",
        "#         return vector"
      ],
      "metadata": {
        "id": "cN3GBu0SJUJ6"
      },
      "execution_count": 95,
      "outputs": []
    },
    {
      "cell_type": "markdown",
      "source": [
        "## Test Generating JSONLs\n",
        "\n",
        "Note: *Markdown is currently lost in this conversion.*"
      ],
      "metadata": {
        "id": "ILO1NZw--xnm"
      }
    },
    {
      "cell_type": "code",
      "source": [
        "# Pauses execution on GCP for 12 second due to default Quota for Vertex AI\n",
        "defualt_quota_sec = 12\n",
        "\n",
        "# Create a text splitter to divide documents into smaller chunks\n",
        "text_splitter = RecursiveCharacterTextSplitter(\n",
        "    chunk_size=10000,\n",
        "    chunk_overlap=200,\n",
        ")\n",
        "\n",
        "# Creating the Generation Config\n",
        "generation_config = {\n",
        "\"max_output_tokens\": 8192,\n",
        "\"temperature\": 0,\n",
        "\"top_p\": 0.95,\n",
        "\"safety_filters\":[]}\n",
        "\n",
        "# Defining Safety filters that WILL NOT block the content outputted\n",
        "safety_config = [\n",
        "    generative_models.SafetySetting(\n",
        "        category=generative_models.HarmCategory.HARM_CATEGORY_DANGEROUS_CONTENT,\n",
        "        threshold=generative_models.HarmBlockThreshold.BLOCK_LOW_AND_ABOVE,\n",
        "    ),\n",
        "    generative_models.SafetySetting(\n",
        "        category=generative_models.HarmCategory.HARM_CATEGORY_HARASSMENT,\n",
        "        threshold=generative_models.HarmBlockThreshold.BLOCK_LOW_AND_ABOVE,\n",
        "    ),\n",
        "]"
      ],
      "metadata": {
        "id": "weOCHmSHQZL1"
      },
      "execution_count": 91,
      "outputs": []
    },
    {
      "cell_type": "code",
      "source": [
        "def pdf_context_jsonl(pdfList, model):\n",
        "  text = \"\"\n",
        "  for pdf in pdfList:\n",
        "    ! gsutil -q cp {pdf} .\n",
        "    print(f'Downloaded: {pdf}')\n",
        "    with pymupdf.open(re.split(r'([^\\/]+$)', pdf)[-2]) as doc:\n",
        "      for page in doc:\n",
        "          text += page.get_text()\n",
        "\n",
        "\n",
        "  # Split the text into chunks\n",
        "  chunks = text_splitter.split_text(text)\n",
        "  with open('context.jsonl', 'w') as f:\n",
        "      for i, chunk in enumerate(chunks):\n",
        "        chunk = chunk.replace(\"\\n\",\" \")\n",
        "        chunk = chunk.replace(\"\\\"\",\"\\'\")\n",
        "        try:\n",
        "          title = model.generate_content(f\"Generate a 10 word summary of this text: {chunk}\")\n",
        "        except Exception as err:\n",
        "          print(f\"LLM's need breaks too! Paused execution for default quota: {defualt_quota_sec} seconds.\")\n",
        "          time.sleep(defualt_quota_sec)\n",
        "          try:\n",
        "            title = model.generate_content(f\"Generate a 10 word summary of this text: {chunk}\")\n",
        "          except Exception as err:\n",
        "            title = \"null\"\n",
        "            print(f\"Oh, maybe something else was the issue? Here is the error: {err}\")\n",
        "        f.write(f'{{\"_id\":\"context_{i}\",\"title\":\"{title}\",\"text\":\"{chunk}\"}}\\n')\n",
        "  return text\n",
        "\n",
        "def validate_jsonl_llm(jsonl_text, model):\n",
        "  prompt_analysis = f\"Return 'true' or 'false' based on if the following text is properly formatted and valid JSONL:\\n{jsonl_text}\"\n",
        "  response = model.generate_content(prompt_analysis)\n",
        "  return True if (\"true\" in response.text.lower()) else False\n",
        "\n",
        "# Creates JSONL Prompts for a PDF and writes them into a file\n",
        "# *zthor* Modify Prompt to generate reliably at least 10 to 50 Per PDF\n",
        "def pdf_query_jsonl(pdfList, model):\n",
        "  validate_text = \"\"\n",
        "  prompt = 'Output JSONL questions based on the pdf provided  with the context needed to answer each question in this format, filling in the brackets: {\"_id\":\"query_[An Iterable number]\",\"title\":\"[The iterable number from before times 2]\",\"text\":\"[A question based on the pdf provided]\", \"context\":\"[Cite the answer from the PDF]\"}'\n",
        "  for pdf in pdfList:\n",
        "    pdf_file = Part.from_uri(pdf, mime_type=\"application/pdf\")\n",
        "    with open('query.jsonl', 'w') as f:\n",
        "      output = model.generate_content([prompt,pdf_file])\n",
        "      f.write(output.text)\n",
        "      validate_text += output.text\n",
        "\n",
        "  if (validate_jsonl_llm(model,validate_text)):\n",
        "    f.close()\n",
        "    return \"Successful Creation of Prompt.jsonl\"\n",
        "  else:\n",
        "    if 'yes' in input('Failed Creation of Prompt.jsonl. Reattempt creation?: ').lower():\n",
        "      f.close()\n",
        "      pdf_query_jsonl(pdfList, model)\n",
        "    else:\n",
        "      f.close()\n",
        "      return \"Failed Creation of Prompt.jsonl\"\n",
        "\n",
        "def create_pairing_tsv(pdfList, pdf_text, model):\n",
        "  all_pairs = [] # TSV of: [query-id], [context-id], [score]\n",
        "  with open('query.jsonl', 'r') as f:\n",
        "    print('BLAH')\n",
        "\n"
      ],
      "metadata": {
        "id": "fGl4UCyF-27k"
      },
      "execution_count": 97,
      "outputs": []
    },
    {
      "cell_type": "markdown",
      "source": [
        "For More details on what is needed for Fine Tuning, [learn more here!](https://cloud.google.com/vertex-ai/generative-ai/docs/models/tune-embeddings#dataset-format)"
      ],
      "metadata": {
        "id": "IftfNL07wR7a"
      }
    },
    {
      "cell_type": "code",
      "source": [
        "model = GenerativeModel(\"gemini-1.5-pro-preview-0514\", generation_config = generation_config)\n",
        "\n",
        "pdfList =  [\"gs://dmv-pdf-analysis/driver_manual_ga_2024.pdf\",\n",
        "            \"gs://dmv-pdf-analysis/commercial_driver_guide.pdf\",\n",
        "            \"gs://dmv-pdf-analysis/motorcycle_operator_guide.pdf\",\n",
        "            \"gs://dmv-pdf-analysis/40_hour_teen_driving_guide.pdf\",\n",
        "            \"gs://dmv-pdf-analysis/alcohol_drug_awareness_student.pdf\",\n",
        "] # Needs to be stored in a GCS Bucket\n",
        "\n",
        "#client = storage.Client()\n",
        "#client.download_blob_to_file('gs://dmv-pdf-analysis/driver_manual_ga_2024.pdf', \"test#\")\n",
        "\n",
        "\n",
        "all_pdf_text = pdf_context_jsonl(pdfList, model)\n",
        "print(pdf_query_jsonl(pdfList, model))\n",
        "create_pairing_tsv(pdfList, all_pdf_text, model)"
      ],
      "metadata": {
        "colab": {
          "base_uri": "https://localhost:8080/",
          "height": 1000
        },
        "id": "Bubx2SO2IsiK",
        "outputId": "bd6a01d8-9aed-4fa9-e56b-891d18b9f297"
      },
      "execution_count": 98,
      "outputs": [
        {
          "output_type": "stream",
          "name": "stdout",
          "text": [
            "Copying gs://dmv-pdf-analysis/driver_manual_ga_2024.pdf...\n",
            "- [1 files][  5.2 MiB/  5.2 MiB]                                                \n",
            "Operation completed over 1 objects/5.2 MiB.                                      \n",
            "Testin is: driver_manual_ga_2024.pdf\n",
            "Copying gs://dmv-pdf-analysis/commercial_driver_guide.pdf...\n",
            "- [1 files][ 14.2 MiB/ 14.2 MiB]                                                \n",
            "Operation completed over 1 objects/14.2 MiB.                                     \n",
            "Testin is: commercial_driver_guide.pdf\n",
            "Copying gs://dmv-pdf-analysis/motorcycle_operator_guide.pdf...\n",
            "- [1 files][  7.8 MiB/  7.8 MiB]                                                \n",
            "Operation completed over 1 objects/7.8 MiB.                                      \n",
            "Testin is: motorcycle_operator_guide.pdf\n",
            "Copying gs://dmv-pdf-analysis/40_hour_teen_driving_guide.pdf...\n",
            "/ [1 files][  3.4 MiB/  3.4 MiB]                                                \n",
            "Operation completed over 1 objects/3.4 MiB.                                      \n",
            "Testin is: 40_hour_teen_driving_guide.pdf\n",
            "Copying gs://dmv-pdf-analysis/alcohol_drug_awareness_student.pdf...\n",
            "/ [1 files][  1.3 MiB/  1.3 MiB]                                                \n",
            "Operation completed over 1 objects/1.3 MiB.                                      \n",
            "Testin is: alcohol_drug_awareness_student.pdf\n",
            "LLM's need breaks too! Paused execution for default quota: 12 seconds.\n",
            "Oh, maybe something else was the issue? Here is the error: Unknown field for GenerationConfig: safety_filters\n",
            "LLM's need breaks too! Paused execution for default quota: 12 seconds.\n",
            "Oh, maybe something else was the issue? Here is the error: Unknown field for GenerationConfig: safety_filters\n",
            "LLM's need breaks too! Paused execution for default quota: 12 seconds.\n",
            "Oh, maybe something else was the issue? Here is the error: Unknown field for GenerationConfig: safety_filters\n",
            "LLM's need breaks too! Paused execution for default quota: 12 seconds.\n",
            "Oh, maybe something else was the issue? Here is the error: Unknown field for GenerationConfig: safety_filters\n",
            "LLM's need breaks too! Paused execution for default quota: 12 seconds.\n",
            "Oh, maybe something else was the issue? Here is the error: Unknown field for GenerationConfig: safety_filters\n",
            "LLM's need breaks too! Paused execution for default quota: 12 seconds.\n",
            "Oh, maybe something else was the issue? Here is the error: Unknown field for GenerationConfig: safety_filters\n",
            "LLM's need breaks too! Paused execution for default quota: 12 seconds.\n",
            "Oh, maybe something else was the issue? Here is the error: Unknown field for GenerationConfig: safety_filters\n",
            "LLM's need breaks too! Paused execution for default quota: 12 seconds.\n",
            "Oh, maybe something else was the issue? Here is the error: Unknown field for GenerationConfig: safety_filters\n",
            "LLM's need breaks too! Paused execution for default quota: 12 seconds.\n",
            "Oh, maybe something else was the issue? Here is the error: Unknown field for GenerationConfig: safety_filters\n",
            "LLM's need breaks too! Paused execution for default quota: 12 seconds.\n",
            "Oh, maybe something else was the issue? Here is the error: Unknown field for GenerationConfig: safety_filters\n",
            "LLM's need breaks too! Paused execution for default quota: 12 seconds.\n",
            "Oh, maybe something else was the issue? Here is the error: Unknown field for GenerationConfig: safety_filters\n",
            "LLM's need breaks too! Paused execution for default quota: 12 seconds.\n"
          ]
        },
        {
          "output_type": "error",
          "ename": "KeyboardInterrupt",
          "evalue": "",
          "traceback": [
            "\u001b[0;31m---------------------------------------------------------------------------\u001b[0m",
            "\u001b[0;31mValueError\u001b[0m                                Traceback (most recent call last)",
            "\u001b[0;32m<ipython-input-97-88bba1ff0288>\u001b[0m in \u001b[0;36mpdf_context_jsonl\u001b[0;34m(pdfList, model)\u001b[0m\n\u001b[1;32m     18\u001b[0m         \u001b[0;32mtry\u001b[0m\u001b[0;34m:\u001b[0m\u001b[0;34m\u001b[0m\u001b[0;34m\u001b[0m\u001b[0m\n\u001b[0;32m---> 19\u001b[0;31m           \u001b[0mtitle\u001b[0m \u001b[0;34m=\u001b[0m \u001b[0mmodel\u001b[0m\u001b[0;34m.\u001b[0m\u001b[0mgenerate_content\u001b[0m\u001b[0;34m(\u001b[0m\u001b[0;34mf\"Generate a 10 word summary of this text: {chunk}\"\u001b[0m\u001b[0;34m)\u001b[0m\u001b[0;34m\u001b[0m\u001b[0;34m\u001b[0m\u001b[0m\n\u001b[0m\u001b[1;32m     20\u001b[0m         \u001b[0;32mexcept\u001b[0m \u001b[0mException\u001b[0m \u001b[0;32mas\u001b[0m \u001b[0merr\u001b[0m\u001b[0;34m:\u001b[0m\u001b[0;34m\u001b[0m\u001b[0;34m\u001b[0m\u001b[0m\n",
            "\u001b[0;32m/usr/local/lib/python3.10/dist-packages/vertexai/generative_models/_generative_models.py\u001b[0m in \u001b[0;36mgenerate_content\u001b[0;34m(self, contents, generation_config, safety_settings, tools, tool_config, stream)\u001b[0m\n\u001b[1;32m    524\u001b[0m         \u001b[0;32melse\u001b[0m\u001b[0;34m:\u001b[0m\u001b[0;34m\u001b[0m\u001b[0;34m\u001b[0m\u001b[0m\n\u001b[0;32m--> 525\u001b[0;31m             return self._generate_content(\n\u001b[0m\u001b[1;32m    526\u001b[0m                 \u001b[0mcontents\u001b[0m\u001b[0;34m=\u001b[0m\u001b[0mcontents\u001b[0m\u001b[0;34m,\u001b[0m\u001b[0;34m\u001b[0m\u001b[0;34m\u001b[0m\u001b[0m\n",
            "\u001b[0;32m/usr/local/lib/python3.10/dist-packages/vertexai/generative_models/_generative_models.py\u001b[0m in \u001b[0;36m_generate_content\u001b[0;34m(self, contents, generation_config, safety_settings, tools, tool_config)\u001b[0m\n\u001b[1;32m    606\u001b[0m         \"\"\"\n\u001b[0;32m--> 607\u001b[0;31m         request = self._prepare_request(\n\u001b[0m\u001b[1;32m    608\u001b[0m             \u001b[0mcontents\u001b[0m\u001b[0;34m=\u001b[0m\u001b[0mcontents\u001b[0m\u001b[0;34m,\u001b[0m\u001b[0;34m\u001b[0m\u001b[0;34m\u001b[0m\u001b[0m\n",
            "\u001b[0;32m/usr/local/lib/python3.10/dist-packages/vertexai/generative_models/_generative_models.py\u001b[0m in \u001b[0;36m_prepare_request\u001b[0;34m(self, contents, generation_config, safety_settings, tools, tool_config, system_instruction)\u001b[0m\n\u001b[1;32m    432\u001b[0m             \u001b[0;32melif\u001b[0m \u001b[0misinstance\u001b[0m\u001b[0;34m(\u001b[0m\u001b[0mgeneration_config\u001b[0m\u001b[0;34m,\u001b[0m \u001b[0mDict\u001b[0m\u001b[0;34m)\u001b[0m\u001b[0;34m:\u001b[0m\u001b[0;34m\u001b[0m\u001b[0;34m\u001b[0m\u001b[0m\n\u001b[0;32m--> 433\u001b[0;31m                 gapic_generation_config = gapic_content_types.GenerationConfig(\n\u001b[0m\u001b[1;32m    434\u001b[0m                     \u001b[0;34m**\u001b[0m\u001b[0mgeneration_config\u001b[0m\u001b[0;34m\u001b[0m\u001b[0;34m\u001b[0m\u001b[0m\n",
            "\u001b[0;32m/usr/local/lib/python3.10/dist-packages/proto/message.py\u001b[0m in \u001b[0;36m__init__\u001b[0;34m(self, mapping, ignore_unknown_fields, **kwargs)\u001b[0m\n\u001b[1;32m    575\u001b[0m \u001b[0;34m\u001b[0m\u001b[0m\n\u001b[0;32m--> 576\u001b[0;31m                 raise ValueError(\n\u001b[0m\u001b[1;32m    577\u001b[0m                     \u001b[0;34m\"Unknown field for {}: {}\"\u001b[0m\u001b[0;34m.\u001b[0m\u001b[0mformat\u001b[0m\u001b[0;34m(\u001b[0m\u001b[0mself\u001b[0m\u001b[0;34m.\u001b[0m\u001b[0m__class__\u001b[0m\u001b[0;34m.\u001b[0m\u001b[0m__name__\u001b[0m\u001b[0;34m,\u001b[0m \u001b[0mkey\u001b[0m\u001b[0;34m)\u001b[0m\u001b[0;34m\u001b[0m\u001b[0;34m\u001b[0m\u001b[0m\n",
            "\u001b[0;31mValueError\u001b[0m: Unknown field for GenerationConfig: safety_filters",
            "\nDuring handling of the above exception, another exception occurred:\n",
            "\u001b[0;31mKeyboardInterrupt\u001b[0m                         Traceback (most recent call last)",
            "\u001b[0;32m<ipython-input-98-175fb2ca563a>\u001b[0m in \u001b[0;36m<cell line: 14>\u001b[0;34m()\u001b[0m\n\u001b[1;32m     12\u001b[0m \u001b[0;34m\u001b[0m\u001b[0m\n\u001b[1;32m     13\u001b[0m \u001b[0;34m\u001b[0m\u001b[0m\n\u001b[0;32m---> 14\u001b[0;31m \u001b[0mall_pdf_text\u001b[0m \u001b[0;34m=\u001b[0m \u001b[0mpdf_context_jsonl\u001b[0m\u001b[0;34m(\u001b[0m\u001b[0mpdfList\u001b[0m\u001b[0;34m,\u001b[0m \u001b[0mmodel\u001b[0m\u001b[0;34m)\u001b[0m\u001b[0;34m\u001b[0m\u001b[0;34m\u001b[0m\u001b[0m\n\u001b[0m\u001b[1;32m     15\u001b[0m \u001b[0mprint\u001b[0m\u001b[0;34m(\u001b[0m\u001b[0mpdf_query_jsonl\u001b[0m\u001b[0;34m(\u001b[0m\u001b[0mpdfList\u001b[0m\u001b[0;34m,\u001b[0m \u001b[0mmodel\u001b[0m\u001b[0;34m)\u001b[0m\u001b[0;34m)\u001b[0m\u001b[0;34m\u001b[0m\u001b[0;34m\u001b[0m\u001b[0m\n\u001b[1;32m     16\u001b[0m \u001b[0mcreate_pairing_tsv\u001b[0m\u001b[0;34m(\u001b[0m\u001b[0mpdfList\u001b[0m\u001b[0;34m,\u001b[0m \u001b[0mall_pdf_text\u001b[0m\u001b[0;34m,\u001b[0m \u001b[0mmodel\u001b[0m\u001b[0;34m)\u001b[0m\u001b[0;34m\u001b[0m\u001b[0;34m\u001b[0m\u001b[0m\n",
            "\u001b[0;32m<ipython-input-97-88bba1ff0288>\u001b[0m in \u001b[0;36mpdf_context_jsonl\u001b[0;34m(pdfList, model)\u001b[0m\n\u001b[1;32m     20\u001b[0m         \u001b[0;32mexcept\u001b[0m \u001b[0mException\u001b[0m \u001b[0;32mas\u001b[0m \u001b[0merr\u001b[0m\u001b[0;34m:\u001b[0m\u001b[0;34m\u001b[0m\u001b[0;34m\u001b[0m\u001b[0m\n\u001b[1;32m     21\u001b[0m           \u001b[0mprint\u001b[0m\u001b[0;34m(\u001b[0m\u001b[0;34mf\"LLM's need breaks too! Paused execution for default quota: {defualt_quota_sec} seconds.\"\u001b[0m\u001b[0;34m)\u001b[0m\u001b[0;34m\u001b[0m\u001b[0;34m\u001b[0m\u001b[0m\n\u001b[0;32m---> 22\u001b[0;31m           \u001b[0mtime\u001b[0m\u001b[0;34m.\u001b[0m\u001b[0msleep\u001b[0m\u001b[0;34m(\u001b[0m\u001b[0mdefualt_quota_sec\u001b[0m\u001b[0;34m)\u001b[0m\u001b[0;34m\u001b[0m\u001b[0;34m\u001b[0m\u001b[0m\n\u001b[0m\u001b[1;32m     23\u001b[0m           \u001b[0;32mtry\u001b[0m\u001b[0;34m:\u001b[0m\u001b[0;34m\u001b[0m\u001b[0;34m\u001b[0m\u001b[0m\n\u001b[1;32m     24\u001b[0m             \u001b[0mtitle\u001b[0m \u001b[0;34m=\u001b[0m \u001b[0mmodel\u001b[0m\u001b[0;34m.\u001b[0m\u001b[0mgenerate_content\u001b[0m\u001b[0;34m(\u001b[0m\u001b[0;34mf\"Generate a 10 word summary of this text: {chunk}\"\u001b[0m\u001b[0;34m)\u001b[0m\u001b[0;34m\u001b[0m\u001b[0;34m\u001b[0m\u001b[0m\n",
            "\u001b[0;31mKeyboardInterrupt\u001b[0m: "
          ]
        }
      ]
    },
    {
      "cell_type": "markdown",
      "metadata": {
        "id": "ThTbjAJ7eGP5"
      },
      "source": [
        "# Next steps\n",
        "\n",
        "To learn more about how you can use the embeddings, check out the [examples](https://ai.google.dev/examples?keywords=embed) available. To learn how to use other services in the Gemini API, visit the [Python quickstart](https://ai.google.dev/gemini-api/docs/get-started/python)."
      ]
    }
  ],
  "metadata": {
    "colab": {
      "provenance": [],
      "collapsed_sections": [
        "2t--gKa8HDZ7",
        "U6tZGHUDOCFW"
      ]
    },
    "kernelspec": {
      "display_name": "Python 3",
      "name": "python3"
    }
  },
  "nbformat": 4,
  "nbformat_minor": 0
}