{
  "cells": [
    {
      "cell_type": "code",
      "source": [
        "# Copyright 2024 Google LLC\n",
        "#\n",
        "# Licensed under the Apache License, Version 2.0 (the \"License\");\n",
        "# you may not use this file except in compliance with the License.\n",
        "# You may obtain a copy of the License at\n",
        "#\n",
        "#     https://www.apache.org/licenses/LICENSE-2.0\n",
        "#\n",
        "# Unless required by applicable law or agreed to in writing, software\n",
        "# distributed under the License is distributed on an \"AS IS\" BASIS,\n",
        "# WITHOUT WARRANTIES OR CONDITIONS OF ANY KIND, either express or implied.\n",
        "# See the License for the specific language governing permissions and\n",
        "# limitations under the License."
      ],
      "metadata": {
        "id": "Mbyy88dG-Qq8"
      },
      "execution_count": null,
      "outputs": []
    },
    {
      "cell_type": "markdown",
      "source": [
        "| | |\n",
        "|-|-|\n",
        "|Author(s) | [Zachary Thorman](https://github.com/zthor5)|"
      ],
      "metadata": {
        "id": "ByHvc05m-SYH"
      }
    },
    {
      "cell_type": "markdown",
      "metadata": {
        "id": "YtwZ8DZGJfUv"
      },
      "source": [
        "# Overview\n",
        "\n",
        "This Notebook will generate JSONLs & Training splits for Finetuning from a list of PDF's using Generative AI's full context to do analysis of the PDFs."
      ]
    },
    {
      "cell_type": "markdown",
      "source": [
        "# Getting Started\n",
        "\n",
        "In this section, you will install needed dependencies & define the Google Cloud project where you want to connect to Vertex AI."
      ],
      "metadata": {
        "id": "2t--gKa8HDZ7"
      }
    },
    {
      "cell_type": "markdown",
      "source": [
        "### Install dependencies"
      ],
      "metadata": {
        "id": "gM2it3BmSEo-"
      }
    },
    {
      "cell_type": "code",
      "execution_count": null,
      "metadata": {
        "id": "JbXe7Oodc5dP",
        "colab": {
          "base_uri": "https://localhost:8080/"
        },
        "outputId": "beaa2891-caef-46a1-c229-1ca0e83f382c"
      },
      "outputs": [
        {
          "output_type": "stream",
          "name": "stdout",
          "text": [
            "\u001b[2K     \u001b[90m━━━━━━━━━━━━━━━━━━━━━━━━━━━━━━━━━━━━━━━━\u001b[0m \u001b[32m158.8/158.8 kB\u001b[0m \u001b[31m2.8 MB/s\u001b[0m eta \u001b[36m0:00:00\u001b[0m\n",
            "\u001b[2K     \u001b[90m━━━━━━━━━━━━━━━━━━━━━━━━━━━━━━━━━━━━━━━━\u001b[0m \u001b[32m526.8/526.8 kB\u001b[0m \u001b[31m9.5 MB/s\u001b[0m eta \u001b[36m0:00:00\u001b[0m\n",
            "\u001b[2K     \u001b[90m━━━━━━━━━━━━━━━━━━━━━━━━━━━━━━━━━━━━━━━━\u001b[0m \u001b[32m3.5/3.5 MB\u001b[0m \u001b[31m11.8 MB/s\u001b[0m eta \u001b[36m0:00:00\u001b[0m\n",
            "\u001b[2K     \u001b[90m━━━━━━━━━━━━━━━━━━━━━━━━━━━━━━━━━━━━━━━━\u001b[0m \u001b[32m126.5/126.5 kB\u001b[0m \u001b[31m4.9 MB/s\u001b[0m eta \u001b[36m0:00:00\u001b[0m\n",
            "\u001b[2K     \u001b[90m━━━━━━━━━━━━━━━━━━━━━━━━━━━━━━━━━━━━━━━━\u001b[0m \u001b[32m1.0/1.0 MB\u001b[0m \u001b[31m12.0 MB/s\u001b[0m eta \u001b[36m0:00:00\u001b[0m\n",
            "\u001b[2K     \u001b[90m━━━━━━━━━━━━━━━━━━━━━━━━━━━━━━━━━━━━━━━━\u001b[0m \u001b[32m2.0/2.0 MB\u001b[0m \u001b[31m17.1 MB/s\u001b[0m eta \u001b[36m0:00:00\u001b[0m\n",
            "\u001b[2K     \u001b[90m━━━━━━━━━━━━━━━━━━━━━━━━━━━━━━━━━━━━━━━━\u001b[0m \u001b[32m302.9/302.9 kB\u001b[0m \u001b[31m13.9 MB/s\u001b[0m eta \u001b[36m0:00:00\u001b[0m\n",
            "\u001b[2K     \u001b[90m━━━━━━━━━━━━━━━━━━━━━━━━━━━━━━━━━━━━━━━━\u001b[0m \u001b[32m125.2/125.2 kB\u001b[0m \u001b[31m6.0 MB/s\u001b[0m eta \u001b[36m0:00:00\u001b[0m\n",
            "\u001b[2K     \u001b[90m━━━━━━━━━━━━━━━━━━━━━━━━━━━━━━━━━━━━━━━━\u001b[0m \u001b[32m2.4/2.4 MB\u001b[0m \u001b[31m17.5 MB/s\u001b[0m eta \u001b[36m0:00:00\u001b[0m\n",
            "\u001b[2K     \u001b[90m━━━━━━━━━━━━━━━━━━━━━━━━━━━━━━━━━━━━━━━━\u001b[0m \u001b[32m92.0/92.0 kB\u001b[0m \u001b[31m2.6 MB/s\u001b[0m eta \u001b[36m0:00:00\u001b[0m\n",
            "\u001b[2K     \u001b[90m━━━━━━━━━━━━━━━━━━━━━━━━━━━━━━━━━━━━━━━━\u001b[0m \u001b[32m62.4/62.4 kB\u001b[0m \u001b[31m2.9 MB/s\u001b[0m eta \u001b[36m0:00:00\u001b[0m\n",
            "\u001b[2K     \u001b[90m━━━━━━━━━━━━━━━━━━━━━━━━━━━━━━━━━━━━━━━━\u001b[0m \u001b[32m41.3/41.3 kB\u001b[0m \u001b[31m3.8 MB/s\u001b[0m eta \u001b[36m0:00:00\u001b[0m\n",
            "\u001b[2K     \u001b[90m━━━━━━━━━━━━━━━━━━━━━━━━━━━━━━━━━━━━━━━━\u001b[0m \u001b[32m6.8/6.8 MB\u001b[0m \u001b[31m21.0 MB/s\u001b[0m eta \u001b[36m0:00:00\u001b[0m\n",
            "\u001b[2K     \u001b[90m━━━━━━━━━━━━━━━━━━━━━━━━━━━━━━━━━━━━━━━━\u001b[0m \u001b[32m59.9/59.9 kB\u001b[0m \u001b[31m2.2 MB/s\u001b[0m eta \u001b[36m0:00:00\u001b[0m\n",
            "\u001b[2K     \u001b[90m━━━━━━━━━━━━━━━━━━━━━━━━━━━━━━━━━━━━━━━━\u001b[0m \u001b[32m107.0/107.0 kB\u001b[0m \u001b[31m6.3 MB/s\u001b[0m eta \u001b[36m0:00:00\u001b[0m\n",
            "\u001b[2K     \u001b[90m━━━━━━━━━━━━━━━━━━━━━━━━━━━━━━━━━━━━━━━━\u001b[0m \u001b[32m67.3/67.3 kB\u001b[0m \u001b[31m4.5 MB/s\u001b[0m eta \u001b[36m0:00:00\u001b[0m\n",
            "\u001b[?25h  Installing build dependencies ... \u001b[?25l\u001b[?25hdone\n",
            "  Getting requirements to build wheel ... \u001b[?25l\u001b[?25hdone\n",
            "  Preparing metadata (pyproject.toml) ... \u001b[?25l\u001b[?25hdone\n",
            "\u001b[2K     \u001b[90m━━━━━━━━━━━━━━━━━━━━━━━━━━━━━━━━━━━━━━━━\u001b[0m \u001b[32m283.7/283.7 kB\u001b[0m \u001b[31m29.1 MB/s\u001b[0m eta \u001b[36m0:00:00\u001b[0m\n",
            "\u001b[2K     \u001b[90m━━━━━━━━━━━━━━━━━━━━━━━━━━━━━━━━━━━━━━━━\u001b[0m \u001b[32m1.7/1.7 MB\u001b[0m \u001b[31m44.6 MB/s\u001b[0m eta \u001b[36m0:00:00\u001b[0m\n",
            "\u001b[2K     \u001b[90m━━━━━━━━━━━━━━━━━━━━━━━━━━━━━━━━━━━━━━━━\u001b[0m \u001b[32m67.6/67.6 kB\u001b[0m \u001b[31m8.3 MB/s\u001b[0m eta \u001b[36m0:00:00\u001b[0m\n",
            "\u001b[2K     \u001b[90m━━━━━━━━━━━━━━━━━━━━━━━━━━━━━━━━━━━━━━━━\u001b[0m \u001b[32m145.0/145.0 kB\u001b[0m \u001b[31m7.3 MB/s\u001b[0m eta \u001b[36m0:00:00\u001b[0m\n",
            "\u001b[2K     \u001b[90m━━━━━━━━━━━━━━━━━━━━━━━━━━━━━━━━━━━━━━━━\u001b[0m \u001b[32m15.8/15.8 MB\u001b[0m \u001b[31m33.7 MB/s\u001b[0m eta \u001b[36m0:00:00\u001b[0m\n",
            "\u001b[2K     \u001b[90m━━━━━━━━━━━━━━━━━━━━━━━━━━━━━━━━━━━━━━━━\u001b[0m \u001b[32m139.0/139.0 kB\u001b[0m \u001b[31m15.7 MB/s\u001b[0m eta \u001b[36m0:00:00\u001b[0m\n",
            "\u001b[2K     \u001b[90m━━━━━━━━━━━━━━━━━━━━━━━━━━━━━━━━━━━━━━━━\u001b[0m \u001b[32m49.2/49.2 kB\u001b[0m \u001b[31m4.6 MB/s\u001b[0m eta \u001b[36m0:00:00\u001b[0m\n",
            "\u001b[2K     \u001b[90m━━━━━━━━━━━━━━━━━━━━━━━━━━━━━━━━━━━━━━━━\u001b[0m \u001b[32m71.9/71.9 kB\u001b[0m \u001b[31m7.3 MB/s\u001b[0m eta \u001b[36m0:00:00\u001b[0m\n",
            "\u001b[2K     \u001b[90m━━━━━━━━━━━━━━━━━━━━━━━━━━━━━━━━━━━━━━━━\u001b[0m \u001b[32m75.6/75.6 kB\u001b[0m \u001b[31m8.2 MB/s\u001b[0m eta \u001b[36m0:00:00\u001b[0m\n",
            "\u001b[2K     \u001b[90m━━━━━━━━━━━━━━━━━━━━━━━━━━━━━━━━━━━━━━━━\u001b[0m \u001b[32m53.6/53.6 kB\u001b[0m \u001b[31m5.3 MB/s\u001b[0m eta \u001b[36m0:00:00\u001b[0m\n",
            "\u001b[2K     \u001b[90m━━━━━━━━━━━━━━━━━━━━━━━━━━━━━━━━━━━━━━━━\u001b[0m \u001b[32m53.0/53.0 kB\u001b[0m \u001b[31m6.3 MB/s\u001b[0m eta \u001b[36m0:00:00\u001b[0m\n",
            "\u001b[2K     \u001b[90m━━━━━━━━━━━━━━━━━━━━━━━━━━━━━━━━━━━━━━━━\u001b[0m \u001b[32m46.0/46.0 kB\u001b[0m \u001b[31m5.3 MB/s\u001b[0m eta \u001b[36m0:00:00\u001b[0m\n",
            "\u001b[2K     \u001b[90m━━━━━━━━━━━━━━━━━━━━━━━━━━━━━━━━━━━━━━━━\u001b[0m \u001b[32m52.5/52.5 kB\u001b[0m \u001b[31m5.8 MB/s\u001b[0m eta \u001b[36m0:00:00\u001b[0m\n",
            "\u001b[2K     \u001b[90m━━━━━━━━━━━━━━━━━━━━━━━━━━━━━━━━━━━━━━━━\u001b[0m \u001b[32m130.5/130.5 kB\u001b[0m \u001b[31m14.8 MB/s\u001b[0m eta \u001b[36m0:00:00\u001b[0m\n",
            "\u001b[2K     \u001b[90m━━━━━━━━━━━━━━━━━━━━━━━━━━━━━━━━━━━━━━━━\u001b[0m \u001b[32m58.3/58.3 kB\u001b[0m \u001b[31m6.6 MB/s\u001b[0m eta \u001b[36m0:00:00\u001b[0m\n",
            "\u001b[2K     \u001b[90m━━━━━━━━━━━━━━━━━━━━━━━━━━━━━━━━━━━━━━━━\u001b[0m \u001b[32m341.4/341.4 kB\u001b[0m \u001b[31m23.6 MB/s\u001b[0m eta \u001b[36m0:00:00\u001b[0m\n",
            "\u001b[2K     \u001b[90m━━━━━━━━━━━━━━━━━━━━━━━━━━━━━━━━━━━━━━━━\u001b[0m \u001b[32m3.4/3.4 MB\u001b[0m \u001b[31m57.7 MB/s\u001b[0m eta \u001b[36m0:00:00\u001b[0m\n",
            "\u001b[2K     \u001b[90m━━━━━━━━━━━━━━━━━━━━━━━━━━━━━━━━━━━━━━━━\u001b[0m \u001b[32m1.2/1.2 MB\u001b[0m \u001b[31m50.1 MB/s\u001b[0m eta \u001b[36m0:00:00\u001b[0m\n",
            "\u001b[2K     \u001b[90m━━━━━━━━━━━━━━━━━━━━━━━━━━━━━━━━━━━━━━━━\u001b[0m \u001b[32m130.2/130.2 kB\u001b[0m \u001b[31m7.5 MB/s\u001b[0m eta \u001b[36m0:00:00\u001b[0m\n",
            "\u001b[2K     \u001b[90m━━━━━━━━━━━━━━━━━━━━━━━━━━━━━━━━━━━━━━━━\u001b[0m \u001b[32m307.7/307.7 kB\u001b[0m \u001b[31m28.8 MB/s\u001b[0m eta \u001b[36m0:00:00\u001b[0m\n",
            "\u001b[2K     \u001b[90m━━━━━━━━━━━━━━━━━━━━━━━━━━━━━━━━━━━━━━━━\u001b[0m \u001b[32m77.9/77.9 kB\u001b[0m \u001b[31m9.5 MB/s\u001b[0m eta \u001b[36m0:00:00\u001b[0m\n",
            "\u001b[2K     \u001b[90m━━━━━━━━━━━━━━━━━━━━━━━━━━━━━━━━━━━━━━━━\u001b[0m \u001b[32m86.8/86.8 kB\u001b[0m \u001b[31m10.5 MB/s\u001b[0m eta \u001b[36m0:00:00\u001b[0m\n",
            "\u001b[?25h  Building wheel for pypika (pyproject.toml) ... \u001b[?25l\u001b[?25hdone\n"
          ]
        }
      ],
      "source": [
        "!pip install --upgrade --quiet google-generativeai chromadb pymupdf google-cloud-storage langchain==0.1.20"
      ]
    },
    {
      "cell_type": "markdown",
      "metadata": {
        "id": "jwmKt115PxK8"
      },
      "source": [
        "Then import the modules you'll use in this tutorial."
      ]
    },
    {
      "cell_type": "code",
      "execution_count": 14,
      "metadata": {
        "id": "muuhsDmmKdHi"
      },
      "outputs": [],
      "source": [
        "import textwrap\n",
        "import chromadb\n",
        "import numpy as np\n",
        "import pandas as pd\n",
        "import pymupdf\n",
        "import re\n",
        "import time\n",
        "import json\n",
        "import os\n",
        "\n",
        "from vertexai.generative_models import GenerativeModel, Part\n",
        "import vertexai.preview.generative_models as generative_models\n",
        "from vertexai.language_models import TextEmbeddingModel\n",
        "\n",
        "# Used to securely store your API key\n",
        "from google.colab import userdata\n",
        "from google.cloud import storage\n",
        "\n",
        "from IPython.display import Markdown, HTML, display\n",
        "from chromadb import Documents, EmbeddingFunction, Embeddings\n",
        "\n",
        "# Import LangChain components\n",
        "import langchain\n",
        "from langchain.text_splitter import RecursiveCharacterTextSplitter\n",
        "from langchain_community.document_loaders import DataFrameLoader\n",
        "\n",
        "\n",
        "# Initialize Vertex AI\n",
        "import vertexai\n",
        "import sys"
      ]
    },
    {
      "cell_type": "markdown",
      "metadata": {
        "id": "U6tZGHUDOCFW"
      },
      "source": [
        "### Restart runtime\n",
        "\n",
        "To use the newly installed packages in this Jupyter runtime, you must restart the runtime. You can do this by running the cell below, which restarts the current kernel.\n",
        "\n",
        "The restart might take a minute or longer. After its restarted, continue to the next step."
      ]
    },
    {
      "cell_type": "code",
      "source": [
        "# import IPython\n",
        "\n",
        "# app = IPython.Application.instance()\n",
        "# app.kernel.do_shutdown(True)"
      ],
      "metadata": {
        "id": "ruVajAp-Htc4"
      },
      "execution_count": null,
      "outputs": []
    },
    {
      "cell_type": "markdown",
      "source": [
        "<div class=\"alert alert-block alert-warning\">\n",
        "<b>⚠️ Wait for the kernel to finish restarting before you continue. ⚠️</b>\n",
        "</div>"
      ],
      "metadata": {
        "id": "GmqS2zdDHwki"
      }
    },
    {
      "cell_type": "markdown",
      "source": [
        "### Authenticate your notebook environment (Colab only)\n",
        "\n",
        "If you are running this notebook on Google Colab, run the cell below to authenticate your environment.\n",
        "\n",
        "This step is not required if you are using [Vertex AI Workbench](https://cloud.google.com/vertex-ai-workbench)."
      ],
      "metadata": {
        "id": "ekYrnfAnH12N"
      }
    },
    {
      "cell_type": "code",
      "source": [
        "# Additional authentication is required for Google Colab\n",
        "if \"google.colab\" in sys.modules:\n",
        "    # Authenticate user to Google Cloud\n",
        "    from google.colab import auth\n",
        "    auth.authenticate_user()"
      ],
      "metadata": {
        "id": "022W7-OUH5YL"
      },
      "execution_count": null,
      "outputs": []
    },
    {
      "cell_type": "markdown",
      "source": [
        "### Define Google Cloud project information, initialize Vertex AI, and add Secrets\n",
        "\n",
        "To get started using Vertex AI, you must have an existing Google Cloud project and [enable the Vertex AI API](https://console.cloud.google.com/flows/enableapi?apiid=aiplatform.googleapis.com).\n",
        "\n",
        "Learn more about [setting up a project and a development environment](https://cloud.google.com/vertex-ai/docs/start/cloud-environment)."
      ],
      "metadata": {
        "id": "AALfV4LTH-xA"
      }
    },
    {
      "cell_type": "code",
      "source": [
        "# Utilizing Secrets to retrieve sensitive information\n",
        "# You can add your own projectID and location to run in your environment.\n",
        "\n",
        "PROJECT_ID = userdata.get('ProjectId') # @param {type:\"string\"}\n",
        "LOCATION = \"us-central1\"    # @param {type:\"string\"}\n",
        "\n",
        "\n",
        "vertexai.init(project=PROJECT_ID, location=LOCATION)"
      ],
      "metadata": {
        "id": "YgDr8fuQIAbQ"
      },
      "execution_count": null,
      "outputs": []
    },
    {
      "cell_type": "markdown",
      "source": [
        "# Helper Functions for Creating Fine Tuning Data"
      ],
      "metadata": {
        "id": "ccPd69qZJN2n"
      }
    },
    {
      "cell_type": "markdown",
      "source": [
        "## Generating JSONLs\n",
        "\n",
        "Note: *Markdown is currently lost in this conversion.*"
      ],
      "metadata": {
        "id": "ILO1NZw--xnm"
      }
    },
    {
      "cell_type": "code",
      "source": [
        "# Pauses execution on GCP for 12 second due to default Quota for Vertex AI\n",
        "defualt_quota_sec = 20\n",
        "\n",
        "# Create a text splitter to divide documents into smaller chunks\n",
        "text_splitter = RecursiveCharacterTextSplitter(\n",
        "    chunk_size=10000,\n",
        "    chunk_overlap=200,\n",
        ")\n",
        "\n",
        "# Creating the Generation Config\n",
        "generation_config = {\n",
        "\"max_output_tokens\": 8192,\n",
        "\"temperature\": 0,\n",
        "\"top_p\": 0.95,\n",
        "}\n",
        "\n",
        "# Defining Safety filters that WILL NOT block (hopefully) the content outputted\n",
        "safety_settings = {\n",
        "    generative_models.HarmCategory.HARM_CATEGORY_HATE_SPEECH: generative_models.HarmBlockThreshold.BLOCK_NONE,\n",
        "    generative_models.HarmCategory.HARM_CATEGORY_DANGEROUS_CONTENT: generative_models.HarmBlockThreshold.BLOCK_NONE,\n",
        "    generative_models.HarmCategory.HARM_CATEGORY_SEXUALLY_EXPLICIT: generative_models.HarmBlockThreshold.BLOCK_NONE,\n",
        "    generative_models.HarmCategory.HARM_CATEGORY_HARASSMENT: generative_models.HarmBlockThreshold.BLOCK_NONE,\n",
        "}\n"
      ],
      "metadata": {
        "id": "weOCHmSHQZL1"
      },
      "execution_count": 22,
      "outputs": []
    },
    {
      "cell_type": "code",
      "source": [
        "def progress(value =1, max =1):\n",
        "    return HTML(\"\"\"\n",
        "        <progress\n",
        "            value='{value}'\n",
        "            max='{max}',\n",
        "            style='width: 60%'\n",
        "        >\n",
        "            {value}\n",
        "        </progress>\n",
        "    \"\"\".format(value=value, max=max))\n",
        "\n",
        "\n",
        "def download_pdfs_to_local(pdfList):\n",
        "  local_pdfs = []\n",
        "  for pdf in pdfList:\n",
        "    ! gsutil -q cp {pdf} .\n",
        "    print(f'Downloaded: {pdf}')\n",
        "    local_pdfs.append(re.split(r'([^\\/]+$)', pdf)[-2]) # *zthor* Potentially change to use a simple split then backwards trace the list.\n",
        "  return local_pdfs\n",
        "\n",
        "\n",
        "def pdf_context_jsonl(local_pdfList, model):\n",
        "  all_pdfs_text = \"\"\n",
        "  for pdf in local_pdfList:\n",
        "    with pymupdf.open(pdf) as doc:\n",
        "      for page in doc:\n",
        "          all_pdfs_text += page.get_text()\n",
        "\n",
        "  # Split the text into chunks\n",
        "  chunks = text_splitter.split_text(all_pdfs_text)\n",
        "  print(f'Now proccessing ({len(chunks)}) chunks through LLM...')\n",
        "  with open('context.jsonl', 'w') as f:\n",
        "    display_out = display(progress(0, len(chunks)), display_id=True)\n",
        "    for i, chunk in enumerate(chunks):\n",
        "      chunk = chunk.replace(\"\\n\",\"\")\n",
        "      chunk = chunk.replace('\"','\\\\\\\"')\n",
        "      try:\n",
        "        title = model.generate_content(f\"Generate a 10 word summary of this text: {chunk}\")\n",
        "        display_out.update(progress(i, len(chunks)))\n",
        "      except Exception as err:\n",
        "        print(f\"LLM's need breaks too! Paused execution for default quota: {defualt_quota_sec} seconds.\")\n",
        "        time.sleep(defualt_quota_sec)\n",
        "        try:\n",
        "          title = model.generate_content(f\"Generate a 10 word summary of this text: {chunk}\")\n",
        "          print(f'Finished LLM call for chunk ({i})')\n",
        "        except Exception as err:\n",
        "          title = \"null\"\n",
        "          raise Exception(f\"Oh, maybe something else was the issue? Here is the error: {err}\")\n",
        "      cleansed_title = title.text.replace(\"\\n\",\"\").replace('\"','\\\\\"')\n",
        "      f.write(f'{{\"_id\":\"context_{i}\",\"title\":\"{cleansed_title}\",\"text\":\"{chunk}\"}}\\n')\n",
        "\n",
        "    display_out.update(progress())\n",
        "    print(f'Finished generating Context.jsonl')\n",
        "    f.close()\n",
        "  return all_pdfs_text\n",
        "\n",
        "# *zthor* Later validate via JSONLines\n",
        "def validate_jsonl(jsonl_text, model):\n",
        "  for line in jsonl_text.splitlines():\n",
        "    try:\n",
        "      json_line = json.loads(line)\n",
        "    except Exception as err:\n",
        "      print(f\"Invalid JSON Line: {line}\")\n",
        "      return False\n",
        "  return True\n",
        "\n",
        "\n",
        "# Creates JSONL Prompts for a PDF and writes them into a file\n",
        "# *zthor* Modify Prompt to generate reliably at least 10 to 50 Per PDF\n",
        "def pdf_query_jsonl(gcs_pdfList, model):\n",
        "  print('Creating prompt.jsonl [May take a few minutes..]')\n",
        "  validate_text = \"\"\n",
        "  with open('query.jsonl', 'w') as f:\n",
        "    display_out = display(progress(0, len(gcs_pdfList)), display_id=True)\n",
        "    for x, pdf in enumerate(gcs_pdfList):\n",
        "      pdf_file = Part.from_uri(pdf, mime_type=\"application/pdf\")\n",
        "      prompt = f'Output in JSONL up to 10 questions that can be answered based on the content of the pdf provided. Output only in JSONL format using this template: {{\"_id\":\"query_{x}_[An iterable number starting with 0]\",\"text\":\"[A question based on the pdf provided]\"}}'\n",
        "      output = model.generate_content([prompt,pdf_file])\n",
        "      # For loop through new line delimiters of prompts, then clean the Strings for errors\n",
        "      if x+1 == len(gcs_pdfList):\n",
        "        f.write(f'{output.text}')\n",
        "      else:\n",
        "        f.write(f'{output.text}\\n')\n",
        "      validate_text += output.text\n",
        "      display_out.update(progress(x, len(gcs_pdfList)))\n",
        "\n",
        "  is_validated = validate_jsonl(validate_text,model)\n",
        "  if (is_validated):\n",
        "    display_out.update(progress())\n",
        "    print(f\"Validate_jsonl_llm returned: {is_validated}\")\n",
        "    f.close()\n",
        "    return \"Successful creation of prompt.jsonl\"\n",
        "  else:\n",
        "    if 'yes' in input('Failed creation of prompt.jsonl; Reattempt creation? (yes or no): ').lower():\n",
        "      f.close()\n",
        "      pdf_query_jsonl(gcs_pdfList, model)\n",
        "    else:\n",
        "      f.close()\n",
        "      display_out.update(progress())\n",
        "      return \"Potential failed creation of prompt.jsonl\"\n",
        "\n",
        "\n",
        "def create_pairing_tsv(pdfList, pdf_text, model):\n",
        "  all_pairs = [[\"query-id\",\"corpus-id\",\"score\"]]\n",
        "  with open('query.jsonl', 'r') as f:\n",
        "   for query_line in f:\n",
        "    try:\n",
        "      query_json_line = json.loads(query_line)\n",
        "    except Exception as err:\n",
        "      raise Exception(f\"Some invalid JSON slipped into the query.jsonl!\\nInvalid JSON [{query_line}]\\n Here is the error: {err}\")\n",
        "    with open('context.jsonl', 'r') as g:\n",
        "      for context_line in g:\n",
        "        try:\n",
        "          context_json_line = json.loads(context_line)\n",
        "        except Exception as err:\n",
        "          raise Exception(f\"Some invalid JSON slipped into the context.jsonl!\\nInvalid JSON [{context_line}]\\n Here is the error: {err}\")\n",
        "        query = query_json_line[\"text\"]\n",
        "        content = context_json_line[\"text\"]\n",
        "        prompt = f\"Respond with only an integer that describes how well the context answers the question. The integer can be from 1 (Does not contatin any relevant information to answer the question) to 10 (Directly has information to answer the question).\\nThe question: {query}\\nThe context: {content}\"\n",
        "        response = model.generate_content(prompt)\n",
        "        response_only_int = int(re.search(r'\\d+', response.text))\n",
        "        pairing = [query_json_line[\"_id\"], context_json_line[\"_id\"], response_only_int]\n",
        "        print(pairing)\n",
        "        all_pairs.append(pairing)\n",
        "        time.sleep(1)\n",
        "  # Shuffle before TSV file creation\n",
        "    #g.close()\n",
        "\n",
        "\n",
        "\n",
        "#f.read()\n",
        "\n",
        "\n"
      ],
      "metadata": {
        "id": "fGl4UCyF-27k"
      },
      "execution_count": 43,
      "outputs": []
    },
    {
      "cell_type": "markdown",
      "source": [
        "For More details on what is needed for Fine Tuning, [learn more here!](https://cloud.google.com/vertex-ai/generative-ai/docs/models/tune-embeddings#dataset-format)"
      ],
      "metadata": {
        "id": "IftfNL07wR7a"
      }
    },
    {
      "cell_type": "code",
      "source": [
        "model = GenerativeModel(\"gemini-1.5-pro-preview-0514\", generation_config = generation_config, safety_settings=safety_settings)\n",
        "\n",
        "# *zthor* Change to only accept bucket location & iterate through all objects in bucket (no sub folders). WARN User that must be PDF's\n",
        "gcs_pdfList =  [\"gs://dmv-pdf-analysis/driver_manual_ga_2024.pdf\",\n",
        "            \"gs://dmv-pdf-analysis/commercial_driver_guide.pdf\",\n",
        "            \"gs://dmv-pdf-analysis/motorcycle_operator_guide.pdf\",\n",
        "            \"gs://dmv-pdf-analysis/40_hour_teen_driving_guide.pdf\",\n",
        "            \"gs://dmv-pdf-analysis/alcohol_drug_awareness_student.pdf\",\n",
        "] # Needs to be stored in a GCS Bucket\n",
        "\n",
        "local_pdf_list = download_pdfs_to_local(gcs_pdfList)\n",
        "\n",
        "all_pdf_text = pdf_context_jsonl(local_pdf_list, model)\n",
        "pdf_query_jsonl(gcs_pdfList, model)\n",
        "create_pairing_tsv(local_pdf_list, all_pdf_text, model)"
      ],
      "metadata": {
        "colab": {
          "base_uri": "https://localhost:8080/",
          "height": 555
        },
        "id": "Bubx2SO2IsiK",
        "outputId": "ff936b8d-36a4-4b60-f5d9-a0b7fd83b29e"
      },
      "execution_count": null,
      "outputs": [
        {
          "output_type": "stream",
          "name": "stdout",
          "text": [
            "Caught CTRL-C (signal 2) - exiting\n",
            "Traceback (most recent call last):\n",
            "  File \"/tools/google-cloud-sdk/platform/gsutil/gsutil\", line 21, in <module>\n",
            "    gsutil.RunMain()\n",
            "  File \"/tools/google-cloud-sdk/platform/gsutil/gsutil.py\", line 152, in RunMain\n",
            "    sys.exit(gslib.__main__.main())\n",
            "  File \"/tools/google-cloud-sdk/platform/gsutil/gslib/__main__.py\", line 436, in main\n",
            "    return _RunNamedCommandAndHandleExceptions(\n",
            "  File \"/tools/google-cloud-sdk/platform/gsutil/gslib/__main__.py\", line 786, in _RunNamedCommandAndHandleExceptions\n",
            "    _HandleUnknownFailure(e)\n",
            "  File \"/tools/google-cloud-sdk/platform/gsutil/gslib/__main__.py\", line 633, in _RunNamedCommandAndHandleExceptions\n",
            "    return command_runner.RunNamedCommand(command_name,\n",
            "  File \"/tools/google-cloud-sdk/platform/gsutil/gslib/command_runner.py\", line 421, in RunNamedCommand\n",
            "    return_code = command_inst.RunCommand()\n",
            "  File \"/tools/google-cloud-sdk/platform/gsutil/gslib/commands/cp.py\", line 1116, in RunCommand\n",
            "    self.stats_lock = parallelism_framework_util.CreateLock()\n",
            "  File \"/tools/google-cloud-sdk/platform/gsutil/gslib/utils/parallelism_framework_util.py\", line 423, in CreateLock\n",
            "    return top_level_manager.Lock()\n",
            "  File \"/usr/lib/python3.10/multiprocessing/managers.py\", line 723, in temp\n",
            "    token, exp = self._create(typeid, *args, **kwds)\n",
            "  File \"/usr/lib/python3.10/multiprocessing/managers.py\", line 605, in _create\n",
            "    assert self._state.value == State.STARTED, 'server not yet started'\n",
            "AssertionError: server not yet started\n",
            "^C\n",
            "Downloaded: gs://dmv-pdf-analysis/driver_manual_ga_2024.pdf\n",
            "Downloaded: gs://dmv-pdf-analysis/commercial_driver_guide.pdf\n",
            "Downloaded: gs://dmv-pdf-analysis/motorcycle_operator_guide.pdf\n",
            "Downloaded: gs://dmv-pdf-analysis/40_hour_teen_driving_guide.pdf\n",
            "Downloaded: gs://dmv-pdf-analysis/alcohol_drug_awareness_student.pdf\n",
            "Now proccessing (109) chunks through LLM...\n"
          ]
        },
        {
          "output_type": "display_data",
          "data": {
            "text/plain": [
              "<IPython.core.display.HTML object>"
            ],
            "text/html": [
              "\n",
              "        <progress\n",
              "            value='14'\n",
              "            max='109',\n",
              "            style='width: 60%'\n",
              "        >\n",
              "            14\n",
              "        </progress>\n",
              "    "
            ]
          },
          "metadata": {}
        }
      ]
    },
    {
      "cell_type": "markdown",
      "metadata": {
        "id": "ThTbjAJ7eGP5"
      },
      "source": [
        "# Next steps\n",
        "\n",
        "To learn more about how you can use the embeddings, check out the [examples](https://ai.google.dev/examples?keywords=embed) available. To learn how to use other services in the Gemini API, visit the [Python quickstart](https://ai.google.dev/gemini-api/docs/get-started/python)."
      ]
    }
  ],
  "metadata": {
    "colab": {
      "provenance": [],
      "collapsed_sections": [
        "2t--gKa8HDZ7",
        "gM2it3BmSEo-",
        "U6tZGHUDOCFW",
        "ekYrnfAnH12N"
      ]
    },
    "kernelspec": {
      "display_name": "Python 3",
      "name": "python3"
    }
  },
  "nbformat": 4,
  "nbformat_minor": 0
}