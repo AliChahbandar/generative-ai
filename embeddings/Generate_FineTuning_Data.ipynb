{
  "cells": [
    {
      "cell_type": "code",
      "source": [
        "# Copyright 2024 Google LLC\n",
        "#\n",
        "# Licensed under the Apache License, Version 2.0 (the \"License\");\n",
        "# you may not use this file except in compliance with the License.\n",
        "# You may obtain a copy of the License at\n",
        "#\n",
        "#     https://www.apache.org/licenses/LICENSE-2.0\n",
        "#\n",
        "# Unless required by applicable law or agreed to in writing, software\n",
        "# distributed under the License is distributed on an \"AS IS\" BASIS,\n",
        "# WITHOUT WARRANTIES OR CONDITIONS OF ANY KIND, either express or implied.\n",
        "# See the License for the specific language governing permissions and\n",
        "# limitations under the License."
      ],
      "metadata": {
        "id": "Mbyy88dG-Qq8"
      },
      "execution_count": null,
      "outputs": []
    },
    {
      "cell_type": "markdown",
      "source": [
        "| | |\n",
        "|-|-|\n",
        "|Author(s) | [Zachary Thorman](https://github.com/zthor5)|"
      ],
      "metadata": {
        "id": "ByHvc05m-SYH"
      }
    },
    {
      "cell_type": "markdown",
      "metadata": {
        "id": "YtwZ8DZGJfUv"
      },
      "source": [
        "# Overview\n",
        "\n",
        "This Notebook will generate JSONLs & Training splits for Finetuning from a list of PDF's using Generative AI's full context to do analysis of the PDFs."
      ]
    },
    {
      "cell_type": "markdown",
      "source": [
        "# Getting Started\n",
        "\n",
        "In this section, you will install needed dependencies & define the Google Cloud project where you want to connect to Vertex AI."
      ],
      "metadata": {
        "id": "2t--gKa8HDZ7"
      }
    },
    {
      "cell_type": "markdown",
      "source": [
        "### Install dependencies"
      ],
      "metadata": {
        "id": "gM2it3BmSEo-"
      }
    },
    {
      "cell_type": "code",
      "execution_count": 26,
      "metadata": {
        "id": "JbXe7Oodc5dP"
      },
      "outputs": [],
      "source": [
        "!pip install --upgrade --quiet google-generativeai chromadb pymupdf langchain==0.1.20"
      ]
    },
    {
      "cell_type": "markdown",
      "metadata": {
        "id": "jwmKt115PxK8"
      },
      "source": [
        "Then import the modules you'll use in this tutorial."
      ]
    },
    {
      "cell_type": "code",
      "execution_count": 27,
      "metadata": {
        "id": "muuhsDmmKdHi"
      },
      "outputs": [],
      "source": [
        "import textwrap\n",
        "import chromadb\n",
        "import numpy as np\n",
        "import pandas as pd\n",
        "import pymupdf\n",
        "\n",
        "from vertexai.generative_models import GenerativeModel, Part\n",
        "import vertexai.preview.generative_models as generative_models\n",
        "from vertexai.language_models import TextEmbeddingModel\n",
        "\n",
        "# Used to securely store your API key\n",
        "from google.colab import userdata\n",
        "\n",
        "from IPython.display import Markdown\n",
        "from chromadb import Documents, EmbeddingFunction, Embeddings\n",
        "\n",
        "# Import LangChain components\n",
        "import langchain\n",
        "from langchain.text_splitter import RecursiveCharacterTextSplitter\n",
        "from langchain_community.document_loaders import DataFrameLoader\n",
        "\n",
        "\n",
        "# Initialize Vertex AI\n",
        "import vertexai\n",
        "import sys"
      ]
    },
    {
      "cell_type": "markdown",
      "metadata": {
        "id": "U6tZGHUDOCFW"
      },
      "source": [
        "### Restart runtime\n",
        "\n",
        "To use the newly installed packages in this Jupyter runtime, you must restart the runtime. You can do this by running the cell below, which restarts the current kernel.\n",
        "\n",
        "The restart might take a minute or longer. After its restarted, continue to the next step."
      ]
    },
    {
      "cell_type": "code",
      "source": [
        "# import IPython\n",
        "\n",
        "# app = IPython.Application.instance()\n",
        "# app.kernel.do_shutdown(True)"
      ],
      "metadata": {
        "id": "ruVajAp-Htc4"
      },
      "execution_count": 28,
      "outputs": []
    },
    {
      "cell_type": "markdown",
      "source": [
        "<div class=\"alert alert-block alert-warning\">\n",
        "<b>⚠️ Wait for the kernel to finish restarting before you continue. ⚠️</b>\n",
        "</div>"
      ],
      "metadata": {
        "id": "GmqS2zdDHwki"
      }
    },
    {
      "cell_type": "markdown",
      "source": [
        "### Authenticate your notebook environment (Colab only)\n",
        "\n",
        "If you are running this notebook on Google Colab, run the cell below to authenticate your environment.\n",
        "\n",
        "This step is not required if you are using [Vertex AI Workbench](https://cloud.google.com/vertex-ai-workbench)."
      ],
      "metadata": {
        "id": "ekYrnfAnH12N"
      }
    },
    {
      "cell_type": "code",
      "source": [
        "# Additional authentication is required for Google Colab\n",
        "if \"google.colab\" in sys.modules:\n",
        "    # Authenticate user to Google Cloud\n",
        "    from google.colab import auth\n",
        "    auth.authenticate_user()"
      ],
      "metadata": {
        "id": "022W7-OUH5YL"
      },
      "execution_count": 29,
      "outputs": []
    },
    {
      "cell_type": "markdown",
      "source": [
        "### Define Google Cloud project information, initialize Vertex AI, and add Secrets\n",
        "\n",
        "To get started using Vertex AI, you must have an existing Google Cloud project and [enable the Vertex AI API](https://console.cloud.google.com/flows/enableapi?apiid=aiplatform.googleapis.com).\n",
        "\n",
        "Learn more about [setting up a project and a development environment](https://cloud.google.com/vertex-ai/docs/start/cloud-environment)."
      ],
      "metadata": {
        "id": "AALfV4LTH-xA"
      }
    },
    {
      "cell_type": "code",
      "source": [
        "# Utilizing Secrets to retrieve sensitive information\n",
        "# You can add your own projectID and location to run in your environment.\n",
        "\n",
        "PROJECT_ID = userdata.get('ProjectId') # @param {type:\"string\"}\n",
        "LOCATION = \"us-central1\"    # @param {type:\"string\"}\n",
        "\n",
        "\n",
        "vertexai.init(project=PROJECT_ID, location=LOCATION)"
      ],
      "metadata": {
        "id": "YgDr8fuQIAbQ"
      },
      "execution_count": 30,
      "outputs": []
    },
    {
      "cell_type": "markdown",
      "source": [
        "# Class for Flexible LLM Caller"
      ],
      "metadata": {
        "id": "ccPd69qZJN2n"
      }
    },
    {
      "cell_type": "markdown",
      "source": [
        "## Generate JSONLs\n",
        "\n"
      ],
      "metadata": {
        "id": "WLWCPbyJVp0R"
      }
    },
    {
      "cell_type": "code",
      "source": [
        "global generation_config\n",
        "generation_config = {\n",
        "\"max_output_tokens\": 8192,\n",
        "\"temperature\": 0,\n",
        "\"top_p\": 0.95}\n",
        "\n",
        "# class GenModel:\n",
        "\n",
        "#     def __init__(self, model_name, temperature):\n",
        "#         self.model = GenerativeModel(\"gemini-1.5-pro-001\", generation_config = generation_config)\n",
        "#         self.model_name = model_name # To be used later for picking models via a Match\n",
        "#         self.temperature = temperature # To be used later for picking models via a Match\n",
        "\n",
        "#     def get_answer(self, prompt):\n",
        "#         response = self.model.generate_content(prompt)\n",
        "#         return response.text\n",
        "\n",
        "\n",
        "# class Vanilla_Embedding_Model:\n",
        "\n",
        "#     def __init__(self, model_name, temperature):\n",
        "#         self.embed_model = TextEmbeddingModel.from_pretrained(\"text-embedding-004\")\n",
        "\n",
        "#     def get_answer(self, prompt):\n",
        "#         embedding = self.embed_model.get_embeddings([prompt])\n",
        "#         vector = embedding[0].values\n",
        "#         return vector"
      ],
      "metadata": {
        "id": "cN3GBu0SJUJ6"
      },
      "execution_count": 31,
      "outputs": []
    },
    {
      "cell_type": "markdown",
      "source": [
        "## Test Generating JSONLs\n",
        "\n",
        "Note: *Markdown is currently lost in this conversion.*"
      ],
      "metadata": {
        "id": "ILO1NZw--xnm"
      }
    },
    {
      "cell_type": "code",
      "source": [
        "! wget -q -O ga_driver_manual.pdf 'https://drive.google.com/uc?export=download&id=1JZEGVb8rUqZ_be9LfizDKLzPz1xQElGR'\n",
        "\n",
        "# Create a text splitter to divide documents into smaller chunks\n",
        "text_splitter = RecursiveCharacterTextSplitter(\n",
        "    chunk_size=10000,\n",
        "    chunk_overlap=200,\n",
        ")"
      ],
      "metadata": {
        "id": "weOCHmSHQZL1"
      },
      "execution_count": 32,
      "outputs": []
    },
    {
      "cell_type": "code",
      "source": [
        "def pdf_context_jsonl(pdfList, model):\n",
        "  text = \"\"\n",
        "  for pdf in pdfList:\n",
        "    with pymupdf.open(pdf) as doc:\n",
        "      for page in doc:\n",
        "          text += page.get_text()\n",
        "\n",
        "  # Split the text into chunks\n",
        "  print(len(text))\n",
        "  chunks = text_splitter.split_text(text)\n",
        "  print(f'Number of chunks: {len(chunks)}')\n",
        "  with open('context.jsonl', 'w') as f:\n",
        "      for i, chunk in enumerate(chunks):\n",
        "        chunk = chunk.replace(\"\\n\",\" \")\n",
        "        chunk = chunk.replace(\"\\\"\",\"\\'\")\n",
        "        title = model.generate_content(f\"Generate a 10 word summary of this text: {chunk}\")\n",
        "        f.write(f'{{\"_id\":\"context_{i}\",\"title\":\"{title}\",\"text\":\"{chunk}\"}}\\n')\n",
        "\n",
        "def validate_jsonl_llm(jsonl_text, model):\n",
        "  prompt_analysis = f\"Return 'true' or 'false' based on if the following text is properly formatted and valid JSONL:\\n{jsonl_text}\"\n",
        "  response = model.generate_content(prompt_analysis)\n",
        "  return True if (\"true\" in response.text.lower()) else False\n",
        "\n",
        "# Creates JSONL Prompts for a PDF and writes them into a file\n",
        "# *zthor* Modify Prompt to generate reliably at least 10 to 50 Per PDF\n",
        "def pdf_query_jsonl(pdfList, model):\n",
        "  validate_text = \"\"\n",
        "  prompt = 'Output JSONL questions based on the pdf provided  with the context needed to answer each question in this format, filling in the brackets: {\"_id\":\"query_[An Iterable number]\",\"title\":\"[The iterable number from before times 2]\",\"text\":\"[A question based on the pdf provided]\", \"context\":\"[Cite the answer from the PDF]\"}'\n",
        "  for pdf in pdfList:\n",
        "    pdf_file = Part.from_uri(pdf, mime_type=\"application/pdf\")\n",
        "    with open('query.jsonl', 'w') as f:\n",
        "      output = model.generate_content([prompt,pdf_file])\n",
        "      f.write(output.text)\n",
        "      validate_text += output.text\n",
        "\n",
        "  if (validate_jsonl_llm(model,validate_text)):\n",
        "    f.close()\n",
        "    return \"Successful Creation of Prompt.jsonl\"\n",
        "  else:\n",
        "    if 'yes' in input('Failed Creation of Prompt.jsonl. Reattempt creation?: ').lower():\n",
        "      f.close()\n",
        "      pdf_query_jsonl(pdfList, model)\n",
        "    else:\n",
        "      f.close()\n",
        "      return \"Failed Creation of Prompt.jsonl\"\n",
        "\n",
        "def create_pairing_tsv(pdfList, model):\n",
        "  with open('query.jsonl', 'r') as f:\n",
        "\n"
      ],
      "metadata": {
        "id": "fGl4UCyF-27k"
      },
      "execution_count": 45,
      "outputs": []
    },
    {
      "cell_type": "code",
      "source": [
        "model = GenerativeModel(\"gemini-1.5-pro-preview-0514\", generation_config = generation_config)\n",
        "\n",
        "pdfList =  [\"gs://dmv-pdf-analysis/driver_manual_ga_2024.pdf\",\n",
        "            \"gs://dmv-pdf-analysis/commercial_driver_guide.pdf\",\n",
        "            \"gs://dmv-pdf-analysis/motorcycle_operator_guide.pdf\",\n",
        "            \"gs://dmv-pdf-analysis/40_hour_teen_driving_guide.pdf\",\n",
        "            \"gs://dmv-pdf-analysis/alcohol_drug_awareness_student.pdf\",\n",
        "] # Needs to be stored in a GCS Bucket\n",
        "\n",
        "\n",
        "\n",
        "pdf_context_jsonl(pdfList, model)\n",
        "print(pdf_query_jsonl(pdfList, model))\n"
      ],
      "metadata": {
        "colab": {
          "base_uri": "https://localhost:8080/",
          "height": 297
        },
        "id": "Bubx2SO2IsiK",
        "outputId": "4c5b81a8-b8cf-4d6e-b13e-7fda9c454e24"
      },
      "execution_count": 44,
      "outputs": [
        {
          "output_type": "error",
          "ename": "AttributeError",
          "evalue": "'str' object has no attribute 'append'",
          "traceback": [
            "\u001b[0;31m---------------------------------------------------------------------------\u001b[0m",
            "\u001b[0;31mAttributeError\u001b[0m                            Traceback (most recent call last)",
            "\u001b[0;32m<ipython-input-44-e1951118d451>\u001b[0m in \u001b[0;36m<cell line: 6>\u001b[0;34m()\u001b[0m\n\u001b[1;32m      4\u001b[0m \u001b[0;34m\u001b[0m\u001b[0m\n\u001b[1;32m      5\u001b[0m \u001b[0;31m#pdf_context_jsonl(pdfList)\u001b[0m\u001b[0;34m\u001b[0m\u001b[0;34m\u001b[0m\u001b[0m\n\u001b[0;32m----> 6\u001b[0;31m \u001b[0mprint\u001b[0m\u001b[0;34m(\u001b[0m\u001b[0mpdf_query_jsonl\u001b[0m\u001b[0;34m(\u001b[0m\u001b[0mpdfList\u001b[0m\u001b[0;34m,\u001b[0m \u001b[0mmodel\u001b[0m\u001b[0;34m)\u001b[0m\u001b[0;34m)\u001b[0m\u001b[0;34m\u001b[0m\u001b[0;34m\u001b[0m\u001b[0m\n\u001b[0m",
            "\u001b[0;32m<ipython-input-42-b3a045596fed>\u001b[0m in \u001b[0;36mpdf_query_jsonl\u001b[0;34m(pdfList, model)\u001b[0m\n\u001b[1;32m     30\u001b[0m       \u001b[0moutput\u001b[0m \u001b[0;34m=\u001b[0m \u001b[0mmodel\u001b[0m\u001b[0;34m.\u001b[0m\u001b[0mgenerate_content\u001b[0m\u001b[0;34m(\u001b[0m\u001b[0;34m[\u001b[0m\u001b[0mprompt\u001b[0m\u001b[0;34m,\u001b[0m\u001b[0mpdf_file\u001b[0m\u001b[0;34m]\u001b[0m\u001b[0;34m)\u001b[0m\u001b[0;34m\u001b[0m\u001b[0;34m\u001b[0m\u001b[0m\n\u001b[1;32m     31\u001b[0m       \u001b[0mf\u001b[0m\u001b[0;34m.\u001b[0m\u001b[0mwrite\u001b[0m\u001b[0;34m(\u001b[0m\u001b[0moutput\u001b[0m\u001b[0;34m.\u001b[0m\u001b[0mtext\u001b[0m\u001b[0;34m)\u001b[0m\u001b[0;34m\u001b[0m\u001b[0;34m\u001b[0m\u001b[0m\n\u001b[0;32m---> 32\u001b[0;31m       \u001b[0mvalidate_text\u001b[0m\u001b[0;34m.\u001b[0m\u001b[0mappend\u001b[0m\u001b[0;34m(\u001b[0m\u001b[0moutput\u001b[0m\u001b[0;34m.\u001b[0m\u001b[0mtext\u001b[0m\u001b[0;34m)\u001b[0m\u001b[0;34m\u001b[0m\u001b[0;34m\u001b[0m\u001b[0m\n\u001b[0m\u001b[1;32m     33\u001b[0m \u001b[0;34m\u001b[0m\u001b[0m\n\u001b[1;32m     34\u001b[0m   \u001b[0;32mif\u001b[0m \u001b[0;34m(\u001b[0m\u001b[0mvalidate_jsonl_llm\u001b[0m\u001b[0;34m(\u001b[0m\u001b[0mmodel\u001b[0m\u001b[0;34m,\u001b[0m\u001b[0mvalidate_text\u001b[0m\u001b[0;34m)\u001b[0m\u001b[0;34m)\u001b[0m\u001b[0;34m:\u001b[0m\u001b[0;34m\u001b[0m\u001b[0;34m\u001b[0m\u001b[0m\n",
            "\u001b[0;31mAttributeError\u001b[0m: 'str' object has no attribute 'append'"
          ]
        }
      ]
    },
    {
      "cell_type": "markdown",
      "metadata": {
        "id": "ThTbjAJ7eGP5"
      },
      "source": [
        "# Next steps\n",
        "\n",
        "To learn more about how you can use the embeddings, check out the [examples](https://ai.google.dev/examples?keywords=embed) available. To learn how to use other services in the Gemini API, visit the [Python quickstart](https://ai.google.dev/gemini-api/docs/get-started/python)."
      ]
    }
  ],
  "metadata": {
    "colab": {
      "provenance": [],
      "collapsed_sections": [
        "2t--gKa8HDZ7",
        "gM2it3BmSEo-",
        "U6tZGHUDOCFW",
        "WLWCPbyJVp0R"
      ]
    },
    "kernelspec": {
      "display_name": "Python 3",
      "name": "python3"
    }
  },
  "nbformat": 4,
  "nbformat_minor": 0
}