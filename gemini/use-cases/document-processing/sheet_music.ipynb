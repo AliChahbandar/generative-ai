{
 "cells": [
  {
   "cell_type": "code",
   "execution_count": null,
   "metadata": {
    "id": "ijGzTHJJUCPY"
   },
   "outputs": [],
   "source": [
    "# Copyright 2024 Google LLC\n",
    "#\n",
    "# Licensed under the Apache License, Version 2.0 (the \"License\");\n",
    "# you may not use this file except in compliance with the License.\n",
    "# You may obtain a copy of the License at\n",
    "#\n",
    "#     https://www.apache.org/licenses/LICENSE-2.0\n",
    "#\n",
    "# Unless required by applicable law or agreed to in writing, software\n",
    "# distributed under the License is distributed on an \"AS IS\" BASIS,\n",
    "# WITHOUT WARRANTIES OR CONDITIONS OF ANY KIND, either express or implied.\n",
    "# See the License for the specific language governing permissions and\n",
    "# limitations under the License."
   ]
  },
  {
   "cell_type": "markdown",
   "metadata": {
    "id": "VEqbX8OhE8y9"
   },
   "source": [
    "# Sheet Music Analysis with Gemini\n",
    "\n",
    "<table align=\"left\">\n",
    "  <td style=\"text-align: center\">\n",
    "    <a href=\"https://colab.research.google.com/github/GoogleCloudPlatform/generative-ai/blob/main/gemini/use-cases/document-processing/sheet_music.ipynb\">\n",
    "      <img src=\"https://cloud.google.com/ml-engine/images/colab-logo-32px.png\" alt=\"Google Colaboratory logo\"><br> Run in Colab\n",
    "    </a>\n",
    "  </td>\n",
    "  <td style=\"text-align: center\">\n",
    "    <a href=\"https://console.cloud.google.com/vertex-ai/colab/import/https:%2F%2Fraw.githubusercontent.com%2FGoogleCloudPlatform%2Fgenerative-ai%2Fmain%2Fgemini%2Fuse-cases%2Fdocument-processing%2Fsheet_music.ipynb\">\n",
    "      <img width=\"32px\" src=\"https://lh3.googleusercontent.com/JmcxdQi-qOpctIvWKgPtrzZdJJK-J3sWE1RsfjZNwshCFgE_9fULcNpuXYTilIR2hjwN\" alt=\"Google Cloud Colab Enterprise logo\"><br> Run in Colab Enterprise\n",
    "    </a>\n",
    "  </td>       \n",
    "  <td style=\"text-align: center\">\n",
    "    <a href=\"https://github.com/GoogleCloudPlatform/generative-ai/blob/main/gemini/use-cases/document-processing/sheet_music.ipynb\">\n",
    "      <img src=\"https://cloud.google.com/ml-engine/images/github-logo-32px.png\" alt=\"GitHub logo\"><br> View on GitHub\n",
    "    </a>\n",
    "  </td>\n",
    "  <td style=\"text-align: center\">\n",
    "    <a href=\"https://console.cloud.google.com/vertex-ai/workbench/deploy-notebook?download_url=https://raw.githubusercontent.com/GoogleCloudPlatform/generative-ai/main/gemini/use-cases/document-processing/sheet_music.ipynb\">\n",
    "      <img src=\"https://lh3.googleusercontent.com/UiNooY4LUgW_oTvpsNhPpQzsstV5W8F7rYgxgGBD85cWJoLmrOzhVs_ksK_vgx40SHs7jCqkTkCk=e14-rj-sc0xffffff-h130-w32\" alt=\"Vertex AI logo\"><br> Open in Vertex AI Workbench\n",
    "    </a>\n",
    "  </td>\n",
    "</table>\n"
   ]
  },
  {
   "cell_type": "markdown",
   "metadata": {},
   "source": [
    "| | |\n",
    "|-|-|\n",
    "|Author(s) | [Holt Skinner](https://github.com/holtskinner) |"
   ]
  },
  {
   "cell_type": "markdown",
   "metadata": {
    "id": "CkHPv2myT2cx"
   },
   "source": [
    "## Overview\n",
    "\n",
    "[Sheet Music](https://en.wikipedia.org/wiki/Sheet_music) is the primary form of music notation used by composers and performers across the world. These pages contain information about the lyrics, pitches, rhythms, composer, text author, composition date, among others.\n",
    "\n",
    "This notebook illustrates using Gemini to extract this metadata from sheet music PDFs.\n",
    "\n",
    "These prompts and documents were demonstrated in the Google Cloud Next 2024 session \"What's next with Gemini: Driving business impact with multimodal use cases\".\n"
   ]
  },
  {
   "cell_type": "markdown",
   "metadata": {
    "id": "r11Gu7qNgx1p"
   },
   "source": [
    "## Getting Started\n"
   ]
  },
  {
   "cell_type": "markdown",
   "metadata": {
    "id": "No17Cw5hgx12"
   },
   "source": [
    "### Install Vertex AI SDK for Python"
   ]
  },
  {
   "cell_type": "code",
   "execution_count": null,
   "metadata": {
    "id": "tFy3H3aPgx12",
    "tags": []
   },
   "outputs": [],
   "source": [
    "%pip install --upgrade --user -q google-cloud-aiplatform"
   ]
  },
  {
   "cell_type": "markdown",
   "metadata": {
    "id": "R5Xep4W9lq-Z"
   },
   "source": [
    "### Restart current runtime\n",
    "\n",
    "To use the newly installed packages in this Jupyter runtime, you must restart the runtime. You can do this by running the cell below, which will restart the current kernel."
   ]
  },
  {
   "cell_type": "code",
   "execution_count": null,
   "metadata": {
    "colab": {
     "base_uri": "https://localhost:8080/"
    },
    "id": "XRvKdaPDTznN",
    "outputId": "154a71b5-f302-4f53-ed2f-b3e5fef9195b",
    "tags": []
   },
   "outputs": [],
   "source": [
    "# Restart kernel after installs so that your environment can access the new packages\n",
    "import IPython\n",
    "\n",
    "app = IPython.Application.instance()\n",
    "app.kernel.do_shutdown(True)"
   ]
  },
  {
   "cell_type": "markdown",
   "metadata": {
    "id": "SbmM4z7FOBpM"
   },
   "source": [
    "<div class=\"alert alert-block alert-warning\">\n",
    "<b>⚠️ The kernel is going to restart. Please wait until it is finished before continuing to the next step. ⚠️</b>\n",
    "</div>\n",
    "\n"
   ]
  },
  {
   "cell_type": "markdown",
   "metadata": {
    "id": "dmWOrTJ3gx13"
   },
   "source": [
    "### Authenticate your notebook environment (Colab only)\n",
    "\n",
    "If you are running this notebook on Google Colab, run the following cell to authenticate your environment. This step is not required if you are using [Vertex AI Workbench](https://cloud.google.com/vertex-ai-workbench).\n"
   ]
  },
  {
   "cell_type": "code",
   "execution_count": null,
   "metadata": {
    "id": "NyKGtVQjgx13",
    "tags": []
   },
   "outputs": [],
   "source": [
    "import sys\n",
    "\n",
    "# Additional authentication is required for Google Colab\n",
    "if \"google.colab\" in sys.modules:\n",
    "    # Authenticate user to Google Cloud\n",
    "    from google.colab import auth\n",
    "\n",
    "    auth.authenticate_user()"
   ]
  },
  {
   "cell_type": "markdown",
   "metadata": {
    "id": "DF4l8DTdWgPY"
   },
   "source": [
    "### Set Google Cloud project information and initialize Vertex AI SDK\n",
    "\n",
    "To get started using Vertex AI, you must have an existing Google Cloud project and [enable the Vertex AI API](https://console.cloud.google.com/flows/enableapi?apiid=aiplatform.googleapis.com).\n",
    "\n",
    "Learn more about [setting up a project and a development environment](https://cloud.google.com/vertex-ai/docs/start/cloud-environment)."
   ]
  },
  {
   "cell_type": "code",
   "execution_count": null,
   "metadata": {
    "id": "Nqwi-5ufWp_B",
    "tags": []
   },
   "outputs": [],
   "source": [
    "# Define project information\n",
    "PROJECT_ID = \"YOUR_PROJECT_ID\"  # @param {type:\"string\"}\n",
    "LOCATION = \"us-central1\"  # @param {type:\"string\"}\n",
    "\n",
    "# Initialize Vertex AI\n",
    "import vertexai\n",
    "\n",
    "vertexai.init(project=PROJECT_ID, location=LOCATION)"
   ]
  },
  {
   "cell_type": "markdown",
   "metadata": {
    "id": "jXHfaVS66_01"
   },
   "source": [
    "### Import libraries\n"
   ]
  },
  {
   "cell_type": "code",
   "execution_count": null,
   "metadata": {
    "id": "lslYAvw37JGQ",
    "tags": []
   },
   "outputs": [],
   "source": [
    "from IPython.display import Markdown, display\n",
    "\n",
    "from vertexai.generative_models import (\n",
    "    GenerationConfig,\n",
    "    GenerativeModel,\n",
    "    HarmCategory,\n",
    "    HarmBlockThreshold,\n",
    "    Part,\n",
    ")"
   ]
  },
  {
   "cell_type": "markdown",
   "metadata": {
    "id": "FTMywdzUORIA"
   },
   "source": [
    "### Load the Gemini 1.5 Flash model\n",
    "\n",
    "Gemini 1.5 Flash (`gemini-1.5-flash-001`) is a multimodal model that supports multimodal prompts. You can include text, image(s), PDFs, audio, and video in your prompt requests and get text or code responses."
   ]
  },
  {
   "cell_type": "code",
   "execution_count": null,
   "metadata": {
    "id": "lRyTw2iPhEXG",
    "tags": []
   },
   "outputs": [],
   "source": [
    "generation_config = GenerationConfig(temperature=1.0, max_output_tokens=8192)\n",
    "safety_settings = {\n",
    "    HarmCategory.HARM_CATEGORY_DANGEROUS_CONTENT: HarmBlockThreshold.BLOCK_ONLY_HIGH\n",
    "}\n",
    "model = GenerativeModel(\n",
    "    model_name=\"gemini-1.5-flash-001\",\n",
    "    system_instruction=\"You are an expert in musicology and music history.\",\n",
    "    generation_config=generation_config,\n",
    "    safety_settings=safety_settings,\n",
    ")"
   ]
  },
  {
   "cell_type": "markdown",
   "metadata": {
    "id": "Wy75sLb-yjNn"
   },
   "source": [
    "## Extract Structured Metadata from Sheet Music PDF\n",
    "\n",
    "For this example, we will be using the popular classical music book [24 Italian Songs and Arias of the 17th and 18th Centuries](https://imslp.org/wiki/24_Italian_Songs_and_Arias_of_the_17th_and_18th_Centuries_(Various)), and extracting metadata about each song in the book."
   ]
  },
  {
   "cell_type": "code",
   "execution_count": 29,
   "metadata": {},
   "outputs": [
    {
     "data": {
      "text/markdown": [
       "## Twenty-Four Italian Songs and Arias\n",
       "\n",
       "**Per la gloria d'adorarvi**\n",
       "* **For the love my heart doth prize** \n",
       "* **Giovanni Battista Bononcini** (1670 - 1750)\n",
       "* **Andante** = 80\n",
       "* **1700**\n",
       "* An aria from the opera *Griselda* about unrequited love, characterized by its sorrowful and introspective nature. The singer bemoans the pain of love, describing it as \"vain\" and \"all in vain.\" The music itself mirrors this sentiment with its use of descending melodies and dissonances.\n",
       "\n",
       "**Amarilli, mia bella**\n",
       "* **Amarilli, my fair one**\n",
       "* **Giulio Caccini** (1546-1618)\n",
       "* **Moderato affettuoso** = 168\n",
       "* **1600**\n",
       "* A madrigal expressing the speaker's adoration for Amarilli.  The music is characterized by its gentle and flowing melodies, as well as its expressive use of ornamentation. The singer uses many metaphors to describe the depth of his feelings, highlighting Amarilli's beauty and the strength of his love.\n",
       "\n",
       "**Alma del core**\n",
       "* **Fairest adored**\n",
       "* **Antonio Caldara** (1670-1736)\n",
       "* **Tempo di Minuetto** \n",
       "* **1700**\n",
       "*  A song of adoration for the person's heart. It is a simple but beautiful piece, with a gentle and flowing melody. The singer expresses their love and admiration with phrases like \"Fair-est a-dor-ed\" and \"Thy faithful love\". \n",
       "\n",
       "**Come raggio di sol**\n",
       "* **As on the swelling wave**\n",
       "* **Antonio Caldara** (1670-1736)\n",
       "* **Sostenuto** = 140\n",
       "* **1700**\n",
       "* An aria depicting a serene and majestic scene of a swelling wave reflecting sunlight, with a beautiful and flowing melody.  The vocal line captures the movement of the waves, and the accompanying piano evokes the shimmering light.\n",
       "\n",
       "**Sebben, crudele**\n",
       "* **Th' not deserving**\n",
       "* **Antonio Caldara** (1670-1736)\n",
       "* **Allegretto grazioso** = 54\n",
       "* **1700**\n",
       "*  A canzonetta characterized by its bittersweet and melancholic mood. The singer expresses their pain and sorrow in a complex and nuanced way, highlighting the cruel treatment they have received. The music features contrasting sections, shifting between gentle, flowing melodies and more intense, dramatic moments.\n",
       "\n",
       "**Vittoria, mio core!**\n",
       "* **Victorious my heart is!**\n",
       "* **Giacomo Carissimi** (1605-1674)\n",
       "* **Allegro con brio** = 168\n",
       "* **1650**\n",
       "* A cantata that celebrates the triumph of love over adversity. The music is energetic and lively, with a strong sense of purpose.  The singer rejoices in their victory, with phrases like \"Victorious my heart is!\" and \"For love now has broken its shackles in twain.\"\n",
       "\n",
       "**Danza, danza, fanciulla gentile**\n",
       "* **Dance, O dance, maiden gay**\n",
       "* **Francesco Durante** (1684-1755)\n",
       "* **Allegro con spirito** = 138\n",
       "* **1700**\n",
       "* An arietta that encourages a young maiden to dance. The music is bright and cheerful, with a simple, repeated melody. It features a delightful refrain \"Dance, O dance, maiden gay\".\n",
       "\n",
       "**Vergin, tutto amor**\n",
       "* **Virgin, fount of love**\n",
       "* **Francesco Durante** (1684-1755)\n",
       "* **Largo religioso** = 140\n",
       "* **1700**\n",
       "* A prayer addressed to the Virgin Mary, expressing gratitude and seeking her intercession. The music is slow and contemplative, reflecting the solemn nature of the prayer. \n",
       "\n",
       "**Caro mio ben**\n",
       "* **Thou, all my bliss**\n",
       "* **Giuseppe Giordani** (Giordaniello) (1744-1798)\n",
       "* **Larghetto** = 60\n",
       "* **1700**\n",
       "* An arietta expressing deep affection and longing for a beloved. It is a simple but heartfelt piece, with a gentle and flowing melody.  The singer declares their love and expresses their longing for their lover's presence with phrases like \"Thou, all my bliss\" and \"My heart is forlorn.\"\n",
       "\n",
       "**O del mio dolce ardor**\n",
       "* **O thou belov'd**\n",
       "* **Christoph Willibald von Gluck** (1714-1787)\n",
       "* **Moderato** = 140\n",
       "* **1700**\n",
       "* An aria reflecting on the power of love, expressing admiration and longing for the beloved.  The music features a melody that rises and falls, mirroring the emotional ebb and flow of the singer's feelings. \n",
       "\n",
       "**Che fiero costume**\n",
       "* **How void of compassion**\n",
       "* **Giovanni Legrenzi** (1626-1690)\n",
       "* **Allegretto con moto** = 56\n",
       "* **1680**\n",
       "* An arietta about a person who is cold and unfeeling, highlighting their lack of compassion. The music is characterized by its sharp and angular melodies, creating a sense of detachment and coldness.\n",
       "\n",
       "**Pur dicesti, o bocca bella**\n",
       "* **Mouth so charmful**\n",
       "* **Antonio Lotti** (1667-1740)\n",
       "* **Allegretto grazioso** = 69\n",
       "* **1700**\n",
       "* An arietta expressing admiration and longing for a charming and beautiful person, their enchanting words being compared to sweet lures. The melody is light and playful, reflecting the beauty and allure of the person.\n",
       "\n",
       "**Il mio bel foco**\n",
       "* **My joyful ardor**\n",
       "* **Benedetto Marcello** (1686-1739)\n",
       "* **Recitativo ed Aria** \n",
       "* **1700**\n",
       "* A recitative and aria expressing the joy and fervor of love.  The recitative sets the scene, and the aria builds to a powerful climax. The music is passionate and vibrant, reflecting the speaker's intense feelings of love.\n",
       "\n",
       "**Lasciatemi morire!**\n",
       "* **No longer let me languish**\n",
       "* **Claudio Monteverdi** (1567-1643)\n",
       "* **Lento** = 58\n",
       "* **1600**\n",
       "* An aria from the opera *Ariana*,  about the singer's plea to be allowed to die. The music is slow and mournful, reflecting the singer's despair.  The vocal line is filled with long, drawn-out notes, and the piano accompaniment creates a sense of sadness and resignation.\n",
       "\n",
       "**Nel cor piu non mi sento**\n",
       "* **Why feels my heart so dormant**\n",
       "* **Giovanni Paisiello** (1740-1816)\n",
       "* **Andantino** = 68\n",
       "* **1700**\n",
       "* A song reflecting on the speaker's feelings of apathy and indifference. The melody is slow and languid, mirroring the speaker's emotional state. The singer feels lifeless and compares their heart to a \"torment.\" \n",
       "\n",
       "**Se tu m'ami, se sospiri**\n",
       "* **If thou lov'st me**\n",
       "* **Giovanni Battista Pergolesi** (1710-1736)\n",
       "* **Andantino** = 88\n",
       "* **1700**\n",
       "*  An arietta about unrequited love, expressing the singer's longing for someone who doesn't love them back.  The music is sweet and melancholic, with a gentle melody that underscores the singer's sadness and yearning.\n",
       "\n",
       "**Gia il sole dal Gange**\n",
       "* **O'er Ganges now launches**\n",
       "* **Alessandro Scarlatti** (1659-1725)\n",
       "* **Allegro giusto** = 138\n",
       "* **1700**\n",
       "* A canzonetta about the Ganges River,  evoking a beautiful and vibrant scene. The music is lively and energetic, capturing the movement of the river and the warmth of the sun.\n",
       "\n",
       "**Le Violette**\n",
       "* **The Violets**\n",
       "* **Alessandro Scarlatti** (1659-1725)\n",
       "* **Allegretto**\n",
       "* **1700**\n",
       "* A canzone about violets, describing their beauty and fragrance.  The music is gentle and flowing, with a simple but lovely melody.\n",
       "\n",
       "**O cessate di piagarmi**\n",
       "* **O no longer seek to pain me**\n",
       "* **Alessandro Scarlatti** (1659-1725)\n",
       "* **Andante con moto** = 80\n",
       "* **1700**\n",
       "* An arietta with two sections, expressing a plea for someone to stop hurting the singer.  The first section is marked by a sense of resignation, while the second section becomes more impassioned. \n",
       "\n",
       "**Se Florindo è fedele**\n",
       "* **Should Florindo be faithful**\n",
       "* **Alessandro Scarlatti** (1659-1725)\n",
       "* **Allegretto grazioso, moderato assai** = 132\n",
       "* **1700**\n",
       "*  An arietta with a hopeful yet uncertain tone. The singer expresses their longing for a faithful love, using the name Florindo as a symbol of true affection. The music features a mix of gentle and more intense melodies, reflecting the speaker's hopes and fears.\n",
       "\n",
       "**Pieta, Signore!**\n",
       "* **O Lord, have mercy**\n",
       "* **Alessandro Stradella** (1639-1682)\n",
       "* **Andantino**\n",
       "* **1670**\n",
       "* A plea for mercy, with a solemn and earnest tone. The music is slow and dramatic, emphasizing the singer's desperation and need for divine intervention. \n",
       "\n",
       "**Tu lo sai**\n",
       "* **Ask thy heart**\n",
       "* **Giuseppe Torelli** (1658-1709)\n",
       "* **Andantino** \n",
       "* **1700**\n",
       "*  A song reflecting on the singer's pain and asking the listener to empathize with them.  The music is gentle and introspective, with a simple melody that underscores the singer's heartfelt plea. \n"
      ],
      "text/plain": [
       "<IPython.core.display.Markdown object>"
      ]
     },
     "metadata": {},
     "output_type": "display_data"
    }
   ],
   "source": [
    "sheet_music_extraction_prompt = \"\"\"The following document is a book of sheet music. Your task is to output structured metadata about every piece of music in the document. Correct any mistakes that are in the document and fill in missing information when not present in the document.\n",
    "\n",
    "Include the following details:\n",
    "\n",
    "Title\n",
    "Composer with lifetime\n",
    "Tempo Marking\n",
    "Composition Year\n",
    "A description of the piece\n",
    "\"\"\"\n",
    "\n",
    "# Load file directly from Google Cloud Storage\n",
    "file_part = Part.from_uri(\n",
    "    uri=\"gs://github-repo/use-cases/sheet-music/24ItalianSongs.pdf\",\n",
    "    mime_type=\"application/pdf\",\n",
    ")\n",
    "\n",
    "# Send to Gemini\n",
    "response = model.generate_content([sheet_music_extraction_prompt, file_part])\n",
    "\n",
    "# Display results\n",
    "display(Markdown(response.text))"
   ]
  },
  {
   "cell_type": "markdown",
   "metadata": {},
   "source": [
    "You can see that Gemini extracted all of the relevant fields from the document."
   ]
  },
  {
   "cell_type": "markdown",
   "metadata": {},
   "source": [
    "### Song Identification with Audio\n",
    "\n",
    "Now, let's try something more challenging, identifying a song being performed based on the sheet music. We have an audio clip of Holt Skinner performing one of the songs in the book, and we will ask Gemini to identify it based on the sheet music PDF."
   ]
  },
  {
   "cell_type": "code",
   "execution_count": 31,
   "metadata": {},
   "outputs": [
    {
     "data": {
      "text/markdown": [
       "The song in the audio clip is *Sebben, crudele*. The audio clip contains a segment from the song that includes the lyrics *Sebben, crudele, mi fai languir, sempre fedele, sempre fedele, ti voglio amar.* These lyrics are repeated twice in a row and are unique to *Sebben, crudele*. There are no other songs in the collection that include these lyrics. \n"
      ],
      "text/plain": [
       "<IPython.core.display.Markdown object>"
      ]
     },
     "metadata": {},
     "output_type": "display_data"
    }
   ],
   "source": [
    "song_identification_prompt = \"\"\"Based on the sheet music PDF, what song is in the audio clip? Explain how you made the decision.\"\"\"\n",
    "\n",
    "# Load PDF file\n",
    "pdf_part = Part.from_uri(\n",
    "    uri=\"gs://github-repo/use-cases/sheet-music/24ItalianSongs.pdf\",\n",
    "    mime_type=\"application/pdf\",\n",
    ")\n",
    "\n",
    "audio_part = Part.from_uri(\n",
    "    uri=\"gs://github-repo/use-cases/sheet-music/24ItalianClip.mp3\",\n",
    "    mime_type=\"audio/mpeg\",\n",
    ")\n",
    "\n",
    "# Send to Gemini\n",
    "response = model.generate_content(\n",
    "    [pdf_part, audio_part, song_identification_prompt]\n",
    ")\n",
    "\n",
    "# Display results\n",
    "display(Markdown(response.text))"
   ]
  },
  {
   "cell_type": "code",
   "execution_count": null,
   "metadata": {},
   "outputs": [],
   "source": []
  }
 ],
 "metadata": {
  "colab": {
   "provenance": [],
   "toc_visible": true
  },
  "environment": {
   "kernel": "conda-root-py",
   "name": "workbench-notebooks.m115",
   "type": "gcloud",
   "uri": "gcr.io/deeplearning-platform-release/workbench-notebooks:m115"
  },
  "kernelspec": {
   "display_name": "Python 3",
   "language": "python",
   "name": "python3"
  },
  "language_info": {
   "codemirror_mode": {
    "name": "ipython",
    "version": 3
   },
   "file_extension": ".py",
   "mimetype": "text/x-python",
   "name": "python",
   "nbconvert_exporter": "python",
   "pygments_lexer": "ipython3",
   "version": "3.11.0"
  }
 },
 "nbformat": 4,
 "nbformat_minor": 4
}
