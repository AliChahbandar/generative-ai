{
 "cells": [
  {
   "cell_type": "code",
   "execution_count": null,
   "metadata": {
    "id": "ur8xi4C7S06n"
   },
   "outputs": [],
   "source": [
    "# Copyright 2024 Google LLC\n",
    "#\n",
    "# Licensed under the Apache License, Version 2.0 (the \"License\");\n",
    "# you may not use this file except in compliance with the License.\n",
    "# You may obtain a copy of the License at\n",
    "#\n",
    "#     https://www.apache.org/licenses/LICENSE-2.0\n",
    "#\n",
    "# Unless required by applicable law or agreed to in writing, software\n",
    "# distributed under the License is distributed on an \"AS IS\" BASIS,\n",
    "# WITHOUT WARRANTIES OR CONDITIONS OF ANY KIND, either express or implied.\n",
    "# See the License for the specific language governing permissions and\n",
    "# limitations under the License."
   ]
  },
  {
   "cell_type": "markdown",
   "metadata": {
    "id": "JAPoU8Sm5E6e"
   },
   "source": [
    "# Getting Started with LlamaIndex on Vertex AI\n",
    "\n",
    "<table align=\"left\">\n",
    "  <td style=\"text-align: center\">\n",
    "    <a href=\"https://colab.research.google.com/github/GoogleCloudPlatform/generative-ai/blob/main/gemini/grounding/intro-llamaindex-on-vertexai.ipynb\">\n",
    "      <img width=\"32px\" src=\"https://www.gstatic.com/pantheon/images/bigquery/welcome_page/colab-logo.svg\" alt=\"Google Colaboratory logo\"><br> Run in Colab\n",
    "    </a>\n",
    "  </td>\n",
    "  <td style=\"text-align: center\">\n",
    "    <a href=\"https://console.cloud.google.com/vertex-ai/colab/import/https:%2F%2Fraw.githubusercontent.com%2FGoogleCloudPlatform%2Fgenerative-ai%2Fmain%2Fgemini%2Fgrounding%2Fintro-llamaindex-on-vertexai.ipynb\">\n",
    "      <img width=\"32px\" src=\"https://lh3.googleusercontent.com/JmcxdQi-qOpctIvWKgPtrzZdJJK-J3sWE1RsfjZNwshCFgE_9fULcNpuXYTilIR2hjwN\" alt=\"Google Cloud Colab Enterprise logo\"><br> Run in Colab Enterprise\n",
    "    </a>\n",
    "  </td>\n",
    "  <td style=\"text-align: center\">\n",
    "    <a href=\"https://github.com/GoogleCloudPlatform/generative-ai/blob/main/gemini/grounding/intro-llamaindex-on-vertexai.ipynb\">\n",
    "      <img width=\"32px\" src=\"https://upload.wikimedia.org/wikipedia/commons/9/91/Octicons-mark-github.svg\" alt=\"GitHub logo\"><br> View on GitHub\n",
    "    </a>\n",
    "  </td>\n",
    "  <td style=\"text-align: center\">\n",
    "    <a href=\"https://console.cloud.google.com/vertex-ai/workbench/deploy-notebook?download_url=https://raw.githubusercontent.com/GoogleCloudPlatform/generative-ai/blob/main/gemini/grounding/intro-llamaindex-on-vertexai.ipynb\">\n",
    "      <img src=\"https://www.gstatic.com/images/branding/gcpiconscolors/vertexai/v1/32px.svg\" alt=\"Vertex AI logo\"><br> Open in Vertex AI Workbench\n",
    "    </a>\n",
    "  </td>\n",
    "</table>"
   ]
  },
  {
   "cell_type": "markdown",
   "metadata": {},
   "source": [
    "| | |\n",
    "|-|-|\n",
    "|Author(s) | [Holt Skinner](https://github.com/holtskinner) |"
   ]
  },
  {
   "cell_type": "markdown",
   "metadata": {
    "id": "24743cf4a1e1"
   },
   "source": [
    "**_NOTE_**: This notebook has been tested in the following environment:\n",
    "\n",
    "* Python version = 3.11"
   ]
  },
  {
   "cell_type": "markdown",
   "metadata": {
    "id": "tvgnzT1CKxrO"
   },
   "source": [
    "## Overview\n",
    "\n",
    "LlamaIndex is a data framework for developing context-augmented large language model (LLM) applications. Context augmentation occurs when you apply an LLM to your data. This implements retrieval-augmented generation (RAG).\n",
    "\n",
    "A common problem with LLMs is that they don't understand private knowledge, that is, your organization's data. With LlamaIndex on Vertex AI for RAG, you can enrich the LLM context with additional private information, because the model can reduce hallucination and answer questions more accurately.\n",
    "\n",
    "By combining additional knowledge sources with the existing knowledge that LLMs have, a better context is provided. The improved context along with the query enhances the quality of the LLM's response.\n",
    "\n",
    "For more information, refer to the official documentation and API Reference:\n",
    "\n",
    "- https://cloud.google.com/vertex-ai/generative-ai/docs/llamaindex-on-vertexai\n",
    "- https://cloud.google.com/vertex-ai/generative-ai/docs/model-reference/rag-api"
   ]
  },
  {
   "cell_type": "markdown",
   "metadata": {
    "id": "BF1j6f9HApxa"
   },
   "source": [
    "## Before you begin\n",
    "\n",
    "### Set up your Google Cloud project\n",
    "\n",
    "**The following steps are required, regardless of your notebook environment.**\n",
    "\n",
    "1. [Select or create a Google Cloud project](https://console.cloud.google.com/cloud-resource-manager). When you first create an account, you get a $300 free credit towards your compute/storage costs.\n",
    "1. [Make sure that billing is enabled for your project](https://cloud.google.com/billing/docs/how-to/modify-project).\n",
    "1. Enable the [Vertex AI API](https://console.cloud.google.com/flows/enableapi?apiid=aiplatform.googleapis.com) and [Vertex AI Search and Conversation API](https://console.cloud.google.com/flows/enableapi?apiid=discoveryengine.googleapis.com).\n",
    "1. If you want to use Grounding with Google Web Search results, your project must also be allowlisted for this feature while it is in the Private Preview stage.\n",
    "1. If you are running this notebook locally, you need to install the [Cloud SDK](https://cloud.google.com/sdk)."
   ]
  },
  {
   "cell_type": "markdown",
   "metadata": {
    "id": "i7EUnXsZhAGF"
   },
   "source": [
    "### Installation\n",
    "\n",
    "Install the following packages required to execute this notebook."
   ]
  },
  {
   "cell_type": "code",
   "execution_count": null,
   "metadata": {
    "id": "2b4ef9b72d43"
   },
   "outputs": [],
   "source": [
    "%pip install --upgrade --user --quiet google-cloud-aiplatform"
   ]
  },
  {
   "cell_type": "markdown",
   "metadata": {
    "id": "58707a750154"
   },
   "source": [
    "Restart the kernel after installing packages:"
   ]
  },
  {
   "cell_type": "code",
   "execution_count": null,
   "metadata": {
    "id": "f200f10a1da3"
   },
   "outputs": [],
   "source": [
    "import IPython\n",
    "\n",
    "app = IPython.Application.instance()\n",
    "app.kernel.do_shutdown(True)"
   ]
  },
  {
   "cell_type": "markdown",
   "metadata": {},
   "source": [
    "<div class=\"alert alert-block alert-warning\">\n",
    "<b>⚠️ The kernel is going to restart. Please wait until it is finished before continuing to the next step. ⚠️</b>\n",
    "</div>"
   ]
  },
  {
   "cell_type": "markdown",
   "metadata": {
    "id": "sBCra4QMA2wR"
   },
   "source": [
    "### Authenticate your Google Cloud account\n",
    "\n",
    "If you are running this notebook on Google Colab, you will need to authenticate your environment. To do this, run the new cell below. This step is not required if you are using Vertex AI Workbench."
   ]
  },
  {
   "cell_type": "code",
   "execution_count": null,
   "metadata": {
    "id": "603adbbf0532"
   },
   "outputs": [],
   "source": [
    "import sys\n",
    "\n",
    "if \"google.colab\" in sys.modules:\n",
    "    # Authenticate user to Google Cloud\n",
    "    from google.colab import auth\n",
    "\n",
    "    auth.authenticate_user()"
   ]
  },
  {
   "cell_type": "markdown",
   "metadata": {
    "id": "WReHDGG5g0XY"
   },
   "source": [
    "### Set Google Cloud project information and initialize Vertex AI SDK\n",
    "\n",
    "To get started using Vertex AI, you must have an existing Google Cloud project and [enable the Vertex AI API](https://console.cloud.google.com/flows/enableapi?apiid=aiplatform.googleapis.com).\n",
    "\n",
    "Learn more about [setting up a project and a development environment](https://cloud.google.com/vertex-ai/docs/start/cloud-environment).\n",
    "\n",
    "**If you don't know your project ID**, try the following:\n",
    "* Run `gcloud config list`.\n",
    "* Run `gcloud projects list`.\n",
    "* See the support page: [Locate the project ID](https://support.google.com/googleapi/answer/7014113)\n",
    "\n",
    "You can also change the `REGION` variable used by Vertex AI. Learn more about [Vertex AI regions](https://cloud.google.com/vertex-ai/docs/general/locations)."
   ]
  },
  {
   "cell_type": "code",
   "execution_count": 21,
   "metadata": {
    "id": "oM1iC_MfAts1"
   },
   "outputs": [
    {
     "name": "stdout",
     "output_type": "stream",
     "text": [
      "\n",
      "Credentials saved to file: [/Users/holtskinner/.config/gcloud/application_default_credentials.json]\n",
      "\n",
      "These credentials will be used by any library that requests Application Default Credentials (ADC).\n",
      "\n",
      "Quota project \"document-ai-test-337818\" was added to ADC which can be used by Google client libraries for billing and quota. Note that some services may still bill the project owning the resource.\n",
      "Updated property [core/project].\n"
     ]
    }
   ],
   "source": [
    "PROJECT_ID = \"document-ai-test-337818\"  # @param {type:\"string\"}\n",
    "REGION = \"us-central1\"  # @param {type: \"string\"}\n",
    "\n",
    "# Set the project ID\n",
    "!gcloud auth application-default set-quota-project {PROJECT_ID}\n",
    "!gcloud config set project {PROJECT_ID}"
   ]
  },
  {
   "cell_type": "code",
   "execution_count": 22,
   "metadata": {
    "id": "init_aip:mbsdk,all"
   },
   "outputs": [],
   "source": [
    "import vertexai\n",
    "\n",
    "vertexai.init(project=PROJECT_ID, location=REGION)"
   ]
  },
  {
   "cell_type": "markdown",
   "metadata": {
    "id": "960505627ddf"
   },
   "source": [
    "### Import libraries"
   ]
  },
  {
   "cell_type": "code",
   "execution_count": 23,
   "metadata": {
    "id": "PyQmSRbKA8r-"
   },
   "outputs": [],
   "source": [
    "from vertexai.preview.generative_models import (\n",
    "    GenerativeModel,\n",
    "    Tool,\n",
    ")\n",
    "from vertexai.preview import rag\n",
    "\n",
    "\n",
    "from IPython.display import display, Markdown"
   ]
  },
  {
   "cell_type": "markdown",
   "metadata": {},
   "source": [
    "Initialize the Gemini model from Vertex AI:"
   ]
  },
  {
   "cell_type": "markdown",
   "metadata": {},
   "source": [
    "### Create a RAG Corpus"
   ]
  },
  {
   "cell_type": "code",
   "execution_count": 12,
   "metadata": {},
   "outputs": [],
   "source": [
    "display_name = \"Cymbal Cars Corpus\"  # @param {type: \"string\"}\n",
    "rag_corpus = rag.create_corpus(display_name=display_name)"
   ]
  },
  {
   "cell_type": "markdown",
   "metadata": {},
   "source": [
    "### Import Files to the RagCorpus\n"
   ]
  },
  {
   "cell_type": "code",
   "execution_count": 39,
   "metadata": {},
   "outputs": [],
   "source": [
    "paths = [\n",
    "    \"gs://github-repo/generative-ai/sample-apps/fixmycar/cymbal-starlight-2024.pdf\"\n",
    "]  # @param {type:\"raw\"}\n",
    "\n",
    "response = rag.upload_file(\n",
    "    \"projects/908687846511/locations/us-central1/ragCorpora/4206925001917464576\",\n",
    "    \"/Users/holtskinner/Downloads/cymbal-starlight-2024.pdf\",\n",
    "    display_name=\"cymbal-starlight-2024.pdf\",\n",
    "    description=\"Manual for 2024 Cymbal Starlight\",\n",
    ")\n"
   ]
  },
  {
   "cell_type": "markdown",
   "metadata": {},
   "source": [
    "### Direct context retrieval"
   ]
  },
  {
   "cell_type": "code",
   "execution_count": 40,
   "metadata": {},
   "outputs": [],
   "source": [
    "rag_corpus_id = (\n",
    "    \"projects/908687846511/locations/us-central1/ragCorpora/4206925001917464576\"\n",
    ")"
   ]
  },
  {
   "cell_type": "code",
   "execution_count": 44,
   "metadata": {},
   "outputs": [],
   "source": [
    "query = \"What is maximum cargo capacity of the 2024 Cymbal Starlight?\"  # @param {type:\"string\"}\n",
    "\n",
    "response = rag.retrieval_query(\n",
    "    rag_resources=[\n",
    "        rag.RagResource(\n",
    "            rag_corpus=rag_corpus_id,\n",
    "        )\n",
    "    ],\n",
    "    text=query,\n",
    "    similarity_top_k=3\n",
    ")"
   ]
  },
  {
   "cell_type": "code",
   "execution_count": 45,
   "metadata": {},
   "outputs": [
    {
     "name": "stdout",
     "output_type": "stream",
     "text": [
      "source_uri: \"cymbal-starlight-2024.pdf\"\n",
      "text: \"This light may illuminate for a variety of reasons, including:\\r\\nA low oil level\\r\\nA faulty oil pump\\r\\nA leak in the oil system\\r\\nCoolant temperature warning light: The coolant temperature warning light indicates that the\\r\\ncoolant temperature in the engine is high. This light may illuminate for a variety of reasons, including:\\r\\nA low coolant level\\r\\nA faulty thermostat\\r\\nA leak in the cooling system\\r\\nSafety Warning Lights\\r\\nThe following safety warning lights may illuminate in the instrument cluster of your Cymbal Starlight 2024:\\r\\nABS warning light: The ABS warning light indicates a problem with the vehicle\\'s anti-lock braking\\r\\nsystem. This light may illuminate for a variety of reasons, including:\\r\\nA faulty ABS sensor\\r\\nA problem with the ABS control module\\r\\nA leak in the ABS hydraulic system\\r\\nTraction control warning light: The traction control warning light indicates a problem with the\\r\\nvehicle\\'s traction control system. This light may illuminate for a variety of reasons, including:\\r\\nA faulty traction control sensor\\r\\nA problem with the traction control control module\\r\\nA loss of traction\\r\\nOther Warning Lights\\r\\nThe following other warning lights may illuminate in the instrument cluster of your Cymbal Starlight 2024:\\r\\nAirbag warning light: The airbag warning light indicates a problem with the vehicle\\'s airbag system.\\r\\nThis light may illuminate for a variety of reasons, including:\\r\\nA faulty airbag sensor\\r\\nA problem with the airbag control module\\r\\nA problem with the airbag wiring\\r\\nTire pressure warning light: The tire pressure warning light indicates that the tire pressure in one or\\r\\nmore of the vehicle\\'s tires is low. This light may illuminate for a variety of reasons, including:\\r\\nA low tire pressure\\r\\nA faulty tire pressure sensor\\r\\nA leak in the tire\\r\\nWhat to Do If a Warning Light Illuminates\\r\\nIf any of the warning lights in your Cymbal Starlight 2024 illuminate, it is important to have the vehicle\\r\\ninspected by a qualified technician as soon as possible. Ignoring a warning light can lead to further damagemanual.md 2024-03-23\\r\\n7 / 22\\r\\nto the vehicle and could compromise your safety.\\r\\nBy paying attention to the warning lights in your vehicle and having the vehicle inspected by a qualified\\r\\ntechnician as soon as possible, you can help to ensure that your Cymbal Starlight 2024 is operating safely\\r\\nand efficiently.\\r\\nChapter 6: Towing, Cargo, and Luggage\\r\\nTowing\\r\\nYour Cymbal Starlight 2024 is not equipped to tow a trailer.\\r\\nCargo\\r\\nThe Cymbal Starlight 2024 has a cargo capacity of 13.5 cubic feet. The cargo area is located in the trunk of\\r\\nthe vehicle.\\r\\nTo access the cargo area, open the trunk lid using the trunk release lever located in the driver\\'s footwell.\\r\\nWhen loading cargo into the trunk, be sure to distribute the weight evenly. Do not overload the trunk, as this\\r\\ncould affect the vehicle\\'s handling and stability.\\r\\nLuggage\\r\\nThe Cymbal Starlight 2024 can accommodate up to two suitcases in the trunk. When packing luggage, be\\r\\nsure to use soft-sided luggage to maximize space.\\r\\nTo ensure that your luggage is secure while driving, use the cargo straps located in the trunk to tie down the\\r\\nluggage.\\r\\nTips for Towing, Cargo, and Luggage\\r\\nWhen towing a trailer, be sure to use a trailer that is compatible with your vehicle.\\r\\nNever overload the trailer or the vehicle.\\r\\nDistribute the weight evenly in the trailer and the vehicle.\\r\\nDrive slowly and carefully when towing a trailer.\\r\\nWhen loading cargo into the trunk, be sure to distribute the weight evenly.\\r\\nDo not overload the trunk, as this could affect the vehicle\\'s handling and stability.\\r\\nWhen packing luggage, use soft-sided luggage to maximize space.\\r\\nUse the cargo straps located in the trunk to tie down the luggage to ensure that it is secure while\\r\\ndriving.\\r\\nBy following these tips, you can safely and conveniently transport cargo and luggage in your Cymbal\\r\\nStarlight 2024.\\r\\nChapter 7: Driving Procedures with Automatic Transmission\\r\\nStarting the Engine\\r\\n￾. Sit in the driver\\'s seat and adjust the seat and steering wheel to a comfortable position.\\r\\n￾. Make sure that the parking brake is engaged.\\r\\n￾. Shift the gear selector to the \\\"P\\\" (Park) position.manual.md 2024-03-23\\r\\n8 / 22\\r\\n￾. Insert the key into the ignition and turn it to the \\\"ON\\\" position.\\r\\n￾. Depress the brake pedal.\\r\\n￾. Turn the key to the \\\"START\\\" position and hold it there until the engine starts.\\r\\n￾. Release the key once the engine starts.\"\n",
      "distance: 0.23437980817723247\n",
      "\n",
      "source_uri: \"cymbal-starlight-2024.pdf\"\n",
      "text: \"Steering Wheel\\r\\nThe steering wheel in your Cymbal Starlight 2024 can be adjusted in two ways:\\r\\nTilt adjustment: The tilt adjustment lever is located on the left side of the steering column. Use this\\r\\nlever to tilt the steering wheel up or down.\\r\\nTelescopic adjustment: The telescopic adjustment lever is located on the right side of the steering\\r\\ncolumn. Use this lever to move the steering wheel closer to you or further away from you.\\r\\nTo adjust the steering wheel, follow these steps:\\r\\n￾. Loosen the tilt adjustment lever.\\r\\n￾. Tilt the steering wheel up or down to the desired position.\\r\\n￾. Tighten the tilt adjustment lever.\\r\\n￾. Loosen the telescopic adjustment lever.\\r\\n￾. Move the steering wheel closer to you or further away from you to the desired position.\\r\\n￾. Tighten the telescopic adjustment lever.\\r\\nBy adjusting the seats and steering wheel to the correct position, you can ensure that you are comfortable\\r\\nand in control while driving your Cymbal Starlight 2024.\\r\\nChapter 13: Lights and Windshield Wipers\\r\\nLights\\r\\nYour Cymbal Starlight 2024 is equipped with a variety of lights, including:\\r\\nHeadlights: The headlights provide illumination for driving at night or in low-visibility conditions.\\r\\nTaillights: The taillights provide illumination for the rear of the vehicle, making it more visible to other\\r\\ndrivers.\\r\\nBrake lights: The brake lights illuminate when the brake pedal is depressed, warning other drivers\\r\\nthat you are slowing down or stopping.\\r\\nTurn signals: The turn signals indicate your intention to turn or change lanes.\\r\\nHazard lights: The hazard lights flash all of the turn signals at the same time, and are used to warn\\r\\nother drivers of a hazard, such as a disabled vehicle.\\r\\nTo operate the lights, use the following controls:\\r\\nHeadlight switch: The headlight switch is located on the dashboard. Use this control to turn the\\r\\nheadlights on and off.\\r\\nTaillight switch: The taillight switch is located on the dashboard. Use this control to turn the taillights\\r\\non and off.\\r\\nBrake light switch: The brake light switch is located on the brake pedal. When the brake pedal is\\r\\ndepressed, the brake light switch activates the brake lights.\\r\\nTurn signal lever: The turn signal lever is located on the steering column. Use this lever to activate\\r\\nthe turn signals.manual.md 2024-03-23\\r\\n16 / 22\\r\\nHazard light button: The hazard light button is located on the dashboard. Use this button to activate\\r\\nthe hazard lights.\\r\\nWindshield Wipers\\r\\nYour Cymbal Starlight 2024 is equipped with two windshield wipers. The windshield wipers are used to\\r\\nclear rain, snow, and other debris from the windshield.\\r\\nTo operate the windshield wipers, use the following controls:\\r\\nWindshield wiper switch: The windshield wiper switch is located on the steering column. Use this\\r\\ncontrol to turn the windshield wipers on and off and to adjust the wiper speed.\\r\\nWindshield washer switch: The windshield washer switch is located on the steering column. Use\\r\\nthis control to spray windshield washer fluid onto the windshield.\\r\\nTips for Using Lights and Windshield Wipers\\r\\nAlways use your headlights when driving at night or in low-visibility conditions.\\r\\nUse your taillights whenever your headlights are on.\\r\\nUse your brake lights whenever you are slowing down or stopping.\\r\\nUse your turn signals whenever you are turning or changing lanes.\\r\\nUse your hazard lights whenever you are parked in a hazardous location or if your vehicle is disabled.\\r\\nUse your windshield wipers whenever there is rain, snow, or other debris on the windshield.\\r\\nReplace your windshield wiper blades regularly to ensure that they are working properly.\\r\\nBy following these tips, you can safely and effectively use the lights and windshield wipers in your Cymbal\\r\\nStarlight 2024.\\r\\nChapter 14: Refueling\\r\\nFuel Type\\r\\nYour Cymbal Starlight 2024 requires unleaded gasoline with an octane rating of 91 or higher.\\r\\nFuel Capacity\\r\\nThe fuel tank in your Cymbal Starlight 2024 has a capacity of 14.5 gallons.\\r\\nRefueling Procedure\\r\\nTo refuel your Cymbal Starlight 2024, follow these steps:\\r\\n￾. Park your vehicle on a level surface.\\r\\n￾. Turn off the engine.\\r\\n￾. Open the fuel door using the fuel door release lever located in the driver\\'s footwell.\\r\\n￾. Insert the fuel nozzle into the fuel filler neck.\\r\\n￾. Squeeze the trigger on the fuel nozzle to begin refueling.\\r\\n￾.\"\n",
      "distance: 0.24402692913378887\n",
      "\n",
      "source_uri: \"cymbal-starlight-2024.pdf\"\n",
      "text: \"By following these tips, you can safely and effectively use the lights and windshield wipers in your Cymbal\\r\\nStarlight 2024.\\r\\nChapter 14: Refueling\\r\\nFuel Type\\r\\nYour Cymbal Starlight 2024 requires unleaded gasoline with an octane rating of 91 or higher.\\r\\nFuel Capacity\\r\\nThe fuel tank in your Cymbal Starlight 2024 has a capacity of 14.5 gallons.\\r\\nRefueling Procedure\\r\\nTo refuel your Cymbal Starlight 2024, follow these steps:\\r\\n￾. Park your vehicle on a level surface.\\r\\n￾. Turn off the engine.\\r\\n￾. Open the fuel door using the fuel door release lever located in the driver\\'s footwell.\\r\\n￾. Insert the fuel nozzle into the fuel filler neck.\\r\\n￾. Squeeze the trigger on the fuel nozzle to begin refueling.\\r\\n￾. Once the fuel tank is full, the fuel nozzle will automatically shut off.\\r\\n￾. Remove the fuel nozzle from the fuel filler neck.\\r\\n￾. Close the fuel door.\\r\\nSafety Tipsmanual.md 2024-03-23\\r\\n17 / 22\\r\\nNever smoke or use a cell phone while refueling your vehicle.\\r\\nDo not overfill the fuel tank.\\r\\nIf you spill fuel on your skin or clothing, wash it off immediately with soap and water.\\r\\nKeep fuel out of the reach of children.\\r\\nFuel Economy\\r\\nThe fuel economy of your Cymbal Starlight 2024 will vary depending on a number of factors, including:\\r\\nDriving habits\\r\\nTraffic conditions\\r\\nTire pressure\\r\\nVehicle weight\\r\\nFuel quality\\r\\nBy following these tips, you can help to improve the fuel economy of your Cymbal Starlight 2024:\\r\\nDrive smoothly and avoid jackrabbit starts and stops.\\r\\nAvoid idling your vehicle for long periods of time.\\r\\nKeep your tires properly inflated.\\r\\nReduce the weight of your vehicle by removing unnecessary items from the trunk.\\r\\nUse high-quality fuel.\\r\\nFuel System Maintenance\\r\\nThe fuel system in your Cymbal Starlight 2024 requires regular maintenance to ensure that it is operating\\r\\nproperly. The following maintenance tasks should be performed at the intervals specified in the\\r\\nmaintenance schedule in your vehicle\\'s owner\\'s manual:\\r\\nReplace the fuel filter\\r\\nClean the fuel injectors\\r\\nInspect the fuel lines and hoses for leaks\\r\\nBy following these maintenance tips, you can help to keep the fuel system in your Cymbal Starlight 2024\\r\\noperating properly and efficiently.\\r\\nChapter 15: Audio and Bluetooth System\\r\\nAudio System\\r\\nThe audio system in your Cymbal Starlight 2024 includes a variety of features to keep you entertained while\\r\\nyou drive. The system includes:\\r\\nAM/FM radio\\r\\nCD player\\r\\nMP3 player\\r\\nBluetooth connectivity\\r\\nSatellite radio (optional)\\r\\nOperating the Audio Systemmanual.md 2024-03-23\\r\\n18 / 22\\r\\nTo operate the audio system, use the controls on the dashboard or the steering wheel. The following table\\r\\ndescribes the functions of the controls:\\r\\nControl Function\\r\\nPower button Turns the audio system on and off\\r\\nVolume knob Adjusts the volume\\r\\nTuning knob Tunes the radio\\r\\nSource button Selects the audio source (e.g., AM/FM radio, CD player, MP3 player, Bluetooth)\\r\\nTrack skip buttons Skips to the next or previous track\\r\\nPlay/pause button Plays or pauses the current track\\r\\nBluetooth Connectivity\\r\\nThe Bluetooth system in your Cymbal Starlight 2024 allows you to connect your smartphone or other\\r\\nBluetooth-enabled device to the audio system. This allows you to stream music, make hands-free phone\\r\\ncalls, and control the audio system using your voice.\\r\\nPairing a Bluetooth Device\\r\\nTo pair a Bluetooth device with your Cymbal Starlight 2024, follow these steps:\\r\\n￾. Make sure that the Bluetooth device is turned on and discoverable.\\r\\n￾. Press the Source button on the audio system and select Bluetooth.\\r\\n￾. The audio system will begin searching for Bluetooth devices.\\r\\n￾. Select your Bluetooth device from the list of available devices.\\r\\n￾. Enter the PIN code for your Bluetooth device (if prompted).\\r\\nOnce your Bluetooth device is paired, you can stream music, make hands-free phone calls, and control the\\r\\naudio system using your voice.\\r\\nUsing the Voice Control System\\r\\nThe voice control system in your Cymbal Starlight 2024 allows you to control the audio system using your\\r\\nvoice. To use the voice control system, simply press the voice control button on the steering wheel and\\r\\nspeak your command.\"\n",
      "distance: 0.26460935475083136\n",
      "\n"
     ]
    }
   ],
   "source": [
    "for context in response.contexts.contexts:\n",
    "    print(context)"
   ]
  },
  {
   "cell_type": "markdown",
   "metadata": {},
   "source": [
    "### Generative Response"
   ]
  },
  {
   "cell_type": "code",
   "execution_count": 49,
   "metadata": {},
   "outputs": [
    {
     "name": "stdout",
     "output_type": "stream",
     "text": [
      "The 2024 Cymbal Starlight has a cargo capacity of 13.5 cubic feet. \n",
      "\n"
     ]
    }
   ],
   "source": [
    "rag_model = GenerativeModel(\n",
    "    model_name=\"gemini-1.5-pro-preview-0409\",\n",
    "    tools=[\n",
    "        Tool.from_retrieval(\n",
    "            retrieval=rag.Retrieval(\n",
    "                source=rag.VertexRagStore(\n",
    "                    rag_corpora=[rag_corpus_id],\n",
    "                    similarity_top_k=3,\n",
    "                    vector_distance_threshold=0.5,\n",
    "                ),\n",
    "            ),\n",
    "        )\n",
    "    ],\n",
    "    system_instruction=[\n",
    "        \"You are a helpful car manual chatbot. Answer the car owner's question about their car.\",\n",
    "    ],\n",
    ")\n",
    "\n",
    "chat = rag_model.start_chat()\n",
    "\n",
    "response = chat.send_message(query)\n",
    "\n",
    "print(response.text)\n",
    "# Generate response\n",
    "# response = rag_model.generate_content(query)\n",
    "# print(response.text)"
   ]
  }
 ],
 "metadata": {
  "colab": {
   "collapsed_sections": [],
   "name": "notebook_template.ipynb",
   "toc_visible": true
  },
  "kernelspec": {
   "display_name": "Python 3 (ipykernel)",
   "language": "python",
   "name": "python3"
  },
  "language_info": {
   "codemirror_mode": {
    "name": "ipython",
    "version": 3
   },
   "file_extension": ".py",
   "mimetype": "text/x-python",
   "name": "python",
   "nbconvert_exporter": "python",
   "pygments_lexer": "ipython3",
   "version": "3.11.0"
  }
 },
 "nbformat": 4,
 "nbformat_minor": 4
}
